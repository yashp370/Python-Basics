{
 "cells": [
  {
   "cell_type": "markdown",
   "id": "187a7275-33ce-44fd-bd8d-4d6e9ebb80b1",
   "metadata": {},
   "source": [
    "        String  in python \n",
    "one string is made then it cannot be change\n",
    "\n",
    "String  are  unordered , changeable , and allow to duplicate values"
   ]
  },
  {
   "cell_type": "code",
   "execution_count": 8,
   "id": "fabfd20f-5582-44f2-8cbb-e9624365ef80",
   "metadata": {},
   "outputs": [
    {
     "name": "stdout",
     "output_type": "stream",
     "text": [
      "example of string of \"\",,\"\"\" \"\"\",\n",
      "1. India, officially the Republic of India, is a country in South Asia. \n",
      "It is the seventh-largest country in the world by area and the most populous country. \n",
      "Bounded by the Indian Ocean on the south, the Arabian Sea \n",
      "2. hii\n",
      "3. kasa kai\n",
      "4. India, officially the Republic of India, is a country in South Asia. It is the seventh-largest country in the world by area and the most populous country. Bounded by the Indian Ocean on the south, the Arabian Sea \n",
      "<class 'str'>\n"
     ]
    }
   ],
   "source": [
    "y = 'example of string of \"\",'',\"\"\" \"\"\",'\n",
    "print(y)\n",
    "x = \"\"\"1. India, officially the Republic of India, is a country in South Asia. \n",
    "It is the seventh-largest country in the world by area and the most populous country. \n",
    "Bounded by the Indian Ocean on the south, the Arabian Sea \"\"\"\n",
    "print(x)\n",
    "a = ('2. hii')\n",
    "print(a)\n",
    "b = \"3. kasa kai\"\n",
    "print(b)\n",
    "\n",
    "c = \"\"\"4. India, officially the Republic of India, is a country in South Asia. It is the seventh-largest country in the world by area and the most populous country. Bounded by the Indian Ocean on the south, the Arabian Sea \"\"\"\n",
    "print(c)\n",
    "print(type(b))\n"
   ]
  },
  {
   "cell_type": "code",
   "execution_count": 16,
   "id": "add6bb42-d588-4ea5-9808-ef959a9b95ce",
   "metadata": {},
   "outputs": [
    {
     "name": "stdout",
     "output_type": "stream",
     "text": [
      "n\n",
      "<class 'str'>\n"
     ]
    }
   ],
   "source": [
    "#index for string from frount\n",
    "a = \"hello students\"\n",
    "print(a[11])\n",
    "print(type(a))"
   ]
  },
  {
   "cell_type": "code",
   "execution_count": 25,
   "id": "c20beed0-74cf-4111-8fef-d1b1b9e29e07",
   "metadata": {},
   "outputs": [
    {
     "name": "stdout",
     "output_type": "stream",
     "text": [
      "e\n",
      "<class 'str'>\n"
     ]
    }
   ],
   "source": [
    "# index for string from back\n",
    "a = \"hello students\"\n",
    "print(a[-4])\n",
    "print(type(a))"
   ]
  },
  {
   "cell_type": "code",
   "execution_count": 26,
   "id": "fe97f492-4756-4392-9fbd-418b3955f070",
   "metadata": {},
   "outputs": [
    {
     "name": "stdout",
     "output_type": "stream",
     "text": [
      "hello\n"
     ]
    }
   ],
   "source": [
    "# slicing of strings\n",
    "\n",
    "s = \"hello student how are you ?\"\n",
    "print(s[0:5])\n",
    " \n"
   ]
  },
  {
   "cell_type": "code",
   "execution_count": 5,
   "id": "36a9d615-8a6e-447f-801e-4e2268c5eb58",
   "metadata": {},
   "outputs": [
    {
     "name": "stdout",
     "output_type": "stream",
     "text": [
      "student how\n"
     ]
    }
   ],
   "source": [
    "# slicing from mid - to mid end \n",
    "s = (\"hello student how are you ?\")\n",
    "print(s[6:17])\n",
    " "
   ]
  },
  {
   "cell_type": "code",
   "execution_count": 31,
   "id": "de2268ec-7b0d-43d8-916d-1a6c473cbe54",
   "metadata": {},
   "outputs": [
    {
     "name": "stdout",
     "output_type": "stream",
     "text": [
      "hlosuethw\n"
     ]
    }
   ],
   "source": [
    "# slicing from mid - to mid end  - and end\n",
    "s = \"hello student how are you ?\"\n",
    "print(s[0:17:2])\n",
    " "
   ]
  },
  {
   "cell_type": "markdown",
   "id": "b133705d-a63a-4d92-a4b6-d4ed83efe5a6",
   "metadata": {},
   "source": [
    "            List in python\n",
    "can be change\n",
    "and \n",
    "duplicates\n",
    "\n",
    "    list  are ordered , changeable , and allow to duplicate values"
   ]
  },
  {
   "cell_type": "code",
   "execution_count": 2,
   "id": "2435a375-9eb0-4f54-afff-9d87dd08fb03",
   "metadata": {},
   "outputs": [],
   "source": [
    "    # creating the list "
   ]
  },
  {
   "cell_type": "code",
   "execution_count": 3,
   "id": "5c2eb214-aabd-4922-924b-3ca3285dcb07",
   "metadata": {},
   "outputs": [
    {
     "name": "stdout",
     "output_type": "stream",
     "text": [
      "['apple', 'banana', 'cherry']\n",
      "<class 'list'>\n"
     ]
    }
   ],
   "source": [
    "mylist = [\"apple\", \"banana\" , \"cherry\"]\n",
    "print(mylist)\n",
    "print(type(mylist))"
   ]
  },
  {
   "cell_type": "code",
   "execution_count": 7,
   "id": "5dd76738-e0f3-477e-9cab-c37dbe5aa496",
   "metadata": {},
   "outputs": [
    {
     "name": "stdout",
     "output_type": "stream",
     "text": [
      "['apple', 'banana', 'cherry', 'apple', 'cherry']\n",
      "<class 'list'>\n"
     ]
    }
   ],
   "source": [
    "    # allow duplicates\n",
    "\n",
    "mylist = [\"apple\", \"banana\" , \"cherry\" , \"apple\",\"cherry\"]\n",
    "print(mylist)\n",
    "print(type(mylist))\n",
    "\n"
   ]
  },
  {
   "cell_type": "code",
   "execution_count": 13,
   "id": "36927fcf-a312-4f25-983d-dd905288c9fe",
   "metadata": {},
   "outputs": [
    {
     "name": "stdout",
     "output_type": "stream",
     "text": [
      "['apple', 'banana', 'cherry']\n",
      "[2, 5, 8]\n",
      "[22.5, 33.6, 58.2, 58.1]\n",
      "[True, False, True]\n",
      "<class 'list'>\n"
     ]
    }
   ],
   "source": [
    "    # list data types\n",
    "\n",
    "list1 = [\"apple\", \"banana\" , \"cherry\" ]\n",
    "list2 = [2,5,8]\n",
    "list3 = [22.5,33.6,58.2,58.1]\n",
    "list4 = [True , False ,True]\n",
    "print(list1)\n",
    "print(list2)\n",
    "print(list3)\n",
    "print(list4)\n",
    "print(type(list1))"
   ]
  },
  {
   "cell_type": "code",
   "execution_count": 15,
   "id": "149d1988-b358-4d40-926a-e61ee2704898",
   "metadata": {},
   "outputs": [
    {
     "name": "stdout",
     "output_type": "stream",
     "text": [
      "[12, 22.9, 'student', True, False]\n"
     ]
    }
   ],
   "source": [
    "a = [12,22.9,\"student\", True, False]\n",
    "print(a)"
   ]
  },
  {
   "cell_type": "code",
   "execution_count": 19,
   "id": "6788baf3-9621-4229-8cc3-97ab1344f0ef",
   "metadata": {},
   "outputs": [
    {
     "name": "stdout",
     "output_type": "stream",
     "text": [
      "8\n"
     ]
    }
   ],
   "source": [
    "    # length of the list\n",
    "a = [12,22.9,-9,-55.3,\"student\",\"hello\",True, False]\n",
    "print(len(a))"
   ]
  },
  {
   "cell_type": "code",
   "execution_count": 20,
   "id": "048ab944-7bfa-4ec8-9f61-3bc7cf1147e8",
   "metadata": {},
   "outputs": [
    {
     "name": "stdout",
     "output_type": "stream",
     "text": [
      "10\n"
     ]
    }
   ],
   "source": [
    "b = [15,8,9,3,4,6,7,8,9,25]\n",
    "print(len(b))"
   ]
  },
  {
   "cell_type": "code",
   "execution_count": 22,
   "id": "d621d74a-5980-4d10-9f39-acc776fb3e16",
   "metadata": {},
   "outputs": [
    {
     "name": "stdout",
     "output_type": "stream",
     "text": [
      "96\n"
     ]
    }
   ],
   "source": [
    "    # Access items\n",
    "\n",
    "thislist = [12,15,26,78,14,25,96,142,52,22,6,5]\n",
    "print(thislist[6])"
   ]
  },
  {
   "cell_type": "code",
   "execution_count": 26,
   "id": "ec9ce300-5293-4ffe-a40b-ee34a606e302",
   "metadata": {},
   "outputs": [
    {
     "name": "stdout",
     "output_type": "stream",
     "text": [
      "6\n"
     ]
    }
   ],
   "source": [
    "thislist = [12,15,26,78,14,25,96,142,52,22,6,5]\n",
    "print(thislist[-2])"
   ]
  },
  {
   "cell_type": "code",
   "execution_count": 27,
   "id": "ad2681b3-d183-41ce-9987-a705e764a3c5",
   "metadata": {},
   "outputs": [
    {
     "name": "stdout",
     "output_type": "stream",
     "text": [
      "[12, 15, 26, 78, 14]\n"
     ]
    }
   ],
   "source": [
    "    # slicing in list\n",
    "\n",
    "thislist = [12,15,26,78,14,25,96,142,52,22,6,5]\n",
    "print(thislist[0:5])"
   ]
  },
  {
   "cell_type": "code",
   "execution_count": 35,
   "id": "164540e1-4bd8-49c5-8fb2-ec1b43f64670",
   "metadata": {},
   "outputs": [
    {
     "name": "stdout",
     "output_type": "stream",
     "text": [
      "[12, 26, 14, 96, 52, 6]\n"
     ]
    }
   ],
   "source": [
    "        #jump in slicing\n",
    "thislist = [12,15,26,78,14,25,96,142,52,22,6,5]\n",
    "print((thislist[0:13:2]))"
   ]
  },
  {
   "cell_type": "code",
   "execution_count": 37,
   "id": "edc2ffd8-c6e2-48b9-85e0-45c27a79cd0d",
   "metadata": {},
   "outputs": [
    {
     "name": "stdout",
     "output_type": "stream",
     "text": [
      "['apple', 'strawberry', 'charry']\n"
     ]
    }
   ],
   "source": [
    "    #change item\n",
    "\n",
    "thislist = [\"apple\", \"banana\", \"charry\"]\n",
    "thislist[1] = \"strawberry\"\n",
    "print(thislist)"
   ]
  },
  {
   "cell_type": "code",
   "execution_count": 38,
   "id": "676ec861-7351-4f8a-9723-2f4549a4ac9a",
   "metadata": {},
   "outputs": [
    {
     "name": "stdout",
     "output_type": "stream",
     "text": [
      "[1, 5, 'student', 58, 62, 9, -5, -3, 41, -9]\n"
     ]
    }
   ],
   "source": [
    "a = [1,5,12,58,62,9,-5,-3,41,-9]\n",
    "a [2] = \"student\" \n",
    "print(a)"
   ]
  },
  {
   "cell_type": "code",
   "execution_count": 41,
   "id": "14ecda96-1bd2-46b8-b40e-5856a12f1ed4",
   "metadata": {},
   "outputs": [
    {
     "name": "stdout",
     "output_type": "stream",
     "text": [
      "[1, 5, 'student', 'pen', 'paper', 62, 9, -5, -3, 41, -9, 84, 963, 46]\n"
     ]
    }
   ],
   "source": [
    "        # change a range of a item values\n",
    "a = [1,5,12,58,62,9,-5,-3,41,-9,84,963,46]\n",
    "a [2:4] = [\"student\" , 'pen','paper']\n",
    "print(a)"
   ]
  },
  {
   "cell_type": "code",
   "execution_count": 42,
   "id": "5edfa9b3-ad56-44f1-8037-55c74d7965d0",
   "metadata": {},
   "outputs": [
    {
     "name": "stdout",
     "output_type": "stream",
     "text": [
      "[12, 14, 1, 78, 96, 25, -9]\n"
     ]
    }
   ],
   "source": [
    "    # for add in list it is (append function)\n",
    "a = [12,14,1,78,96,25]\n",
    "a.append(-9)\n",
    "print(a)"
   ]
  },
  {
   "cell_type": "code",
   "execution_count": 55,
   "id": "1008c2a6-0987-4fd1-bd56-66a210b57caa",
   "metadata": {},
   "outputs": [
    {
     "name": "stdout",
     "output_type": "stream",
     "text": [
      "[89, 4, 69, 78, 85, 988, 21, 'paper', 'student', 'hello']\n"
     ]
    }
   ],
   "source": [
    "        # remove list\n",
    "\n",
    "m = [89,4,69,78,85,'pen',988,21,'paper',\"student\",\"hello\"]\n",
    "m.remove('pen')\n",
    "print(m)"
   ]
  },
  {
   "cell_type": "code",
   "execution_count": 56,
   "id": "eaa1d4a6-4701-4766-af24-f8dad717db89",
   "metadata": {},
   "outputs": [
    {
     "name": "stdout",
     "output_type": "stream",
     "text": [
      "['data', 'python', 6, 5, 4, 3, 2, 1]\n"
     ]
    }
   ],
   "source": [
    "        # reverse\n",
    "mylist = [1,2,3,4,5,6,'python','data']\n",
    "mylist.reverse()\n",
    "print(mylist)"
   ]
  },
  {
   "cell_type": "code",
   "execution_count": 62,
   "id": "232c65a5-eebc-43b5-b18d-95edc1694157",
   "metadata": {},
   "outputs": [
    {
     "name": "stdout",
     "output_type": "stream",
     "text": [
      "<class 'list'>\n",
      "13\n",
      "the sum of a list is  475\n"
     ]
    }
   ],
   "source": [
    "        # want sum \n",
    "l = [14,15,12,78,-9,23,-8,52,74,89,25,102,8]\n",
    "print(type(l))\n",
    "print(len(l))\n",
    "a = 0\n",
    "for i in range(13):\n",
    "    a = a + l[i]\n",
    "    i = i + 1\n",
    "print(\"the sum of a list is \" , a)"
   ]
  },
  {
   "cell_type": "code",
   "execution_count": 1,
   "id": "2f394238-0efc-4f21-9ca6-927fd5f1d271",
   "metadata": {},
   "outputs": [
    {
     "name": "stdout",
     "output_type": "stream",
     "text": [
      "<class 'list'>\n",
      "9\n",
      "the multiply of the list is  1\n",
      "the multiply of the list is  2\n",
      "the multiply of the list is  6\n",
      "the multiply of the list is  24\n",
      "the multiply of the list is  120\n",
      "the multiply of the list is  720\n",
      "the multiply of the list is  5040\n",
      "the multiply of the list is  40320\n",
      "the multiply of the list is  362880\n"
     ]
    }
   ],
   "source": [
    "       # mul of list\n",
    "l = [1,2,3,4,5,6,7,8,9]\n",
    "print(type(l))\n",
    "print(len(l))\n",
    "a = 1\n",
    "for i in range(9):\n",
    "    a *=  l[i]\n",
    "    \n",
    "    print(\"the multiply of the list is \" , a)\n"
   ]
  },
  {
   "cell_type": "code",
   "execution_count": 76,
   "id": "a376b7ad-aea6-41a9-b0b2-c88387d57422",
   "metadata": {},
   "outputs": [
    {
     "name": "stdout",
     "output_type": "stream",
     "text": [
      "<class 'list'>\n",
      "9\n",
      "The multiplication of the list is: 362880\n"
     ]
    }
   ],
   "source": [
    "l = [1, 2, 3, 4, 5, 6, 7, 8, 9]\n",
    "print(type(l))  # This will print: <class 'list'>\n",
    "print(len(l))   # This will print: 9\n",
    "\n",
    "a = 1  # Start with 1 because multiplying by 1 won't change the result\n",
    "for i in range(len(l)):  # Loop through each element of the list\n",
    "    a *= l[i]  # Multiply the current element to 'a'\n",
    "\n",
    "print(\"The multiplication of the list is:\", a)  # Final result after loop ends\n"
   ]
  },
  {
   "cell_type": "markdown",
   "id": "6e0b1473-5771-4522-8712-2c77709faab4",
   "metadata": {},
   "source": [
    "\n",
    "\n",
    "\n",
    "    Tuples in python :\n",
    "\n",
    "    tuples are ordered , unchangeable , and allow to duplicate values"
   ]
  },
  {
   "cell_type": "code",
   "execution_count": 3,
   "id": "69d57e5d-a9f7-4138-b277-dd5d2c88a79f",
   "metadata": {},
   "outputs": [
    {
     "name": "stdout",
     "output_type": "stream",
     "text": [
      "(1, 2, 3, 4)\n",
      "<class 'tuple'>\n"
     ]
    }
   ],
   "source": [
    "# creating a tuples\n",
    "\n",
    "my_tuple = (1,2,3,4)\n",
    "print(my_tuple)\n",
    "print(type(my_tuple))\n"
   ]
  },
  {
   "cell_type": "code",
   "execution_count": 6,
   "id": "e0dce790-448b-46d5-af51-3a532d90d5c0",
   "metadata": {},
   "outputs": [
    {
     "name": "stdout",
     "output_type": "stream",
     "text": [
      "(89, 4, 69, 78, 85, 'pen', 988, 21, (4+5j), 'paper', 'student', 'hello')\n"
     ]
    }
   ],
   "source": [
    "# it can be any thinf int,float, string,complexx etc \n",
    "my_tuple = (89,4,69,78,85,'pen',988,21, 4+5j ,'paper',\"student\",\"hello\")\n",
    "print(my_tuple)"
   ]
  },
  {
   "cell_type": "code",
   "execution_count": 7,
   "id": "5e7a5f9a-a606-4559-9f52-5c2394bb774c",
   "metadata": {},
   "outputs": [
    {
     "name": "stdout",
     "output_type": "stream",
     "text": [
      "()\n",
      "<class 'tuple'>\n"
     ]
    }
   ],
   "source": [
    "# empty tuple\n",
    "\n",
    "my_tuple = ()\n",
    "print(my_tuple)\n",
    "print(type(my_tuple))"
   ]
  },
  {
   "cell_type": "code",
   "execution_count": 9,
   "id": "e5027383-51dd-463d-817d-4ee4bd7ecac5",
   "metadata": {},
   "outputs": [
    {
     "name": "stdout",
     "output_type": "stream",
     "text": [
      "('data', [1, 2, 3], (4, 5, 6))\n",
      "<class 'tuple'>\n"
     ]
    }
   ],
   "source": [
    "# nested tuples\n",
    "\n",
    "a  = (\"data\", [1,2,3],(4,5,6))\n",
    "print(a)\n",
    "print(type(a))"
   ]
  },
  {
   "cell_type": "code",
   "execution_count": 10,
   "id": "abdf3456-c82c-4e19-a581-3b2e60986fae",
   "metadata": {},
   "outputs": [
    {
     "name": "stdout",
     "output_type": "stream",
     "text": [
      "hello\n",
      "<class 'str'>\n"
     ]
    }
   ],
   "source": [
    "# creating a tuple with a item\n",
    "\n",
    "v = (\"hello\")\n",
    "print(v)\n",
    "print(type(v))"
   ]
  },
  {
   "cell_type": "code",
   "execution_count": 12,
   "id": "af90d20c-cf56-414c-a55e-58976977147f",
   "metadata": {},
   "outputs": [
    {
     "name": "stdout",
     "output_type": "stream",
     "text": [
      "('hello',)\n",
      "<class 'tuple'>\n"
     ]
    }
   ],
   "source": [
    "v2 = (\"hello\",)\n",
    "print(v2)\n",
    "print(type(v2))"
   ]
  },
  {
   "cell_type": "code",
   "execution_count": 14,
   "id": "69b05b7d-118c-46d4-bc62-c364a6d0ce8f",
   "metadata": {},
   "outputs": [
    {
     "name": "stdout",
     "output_type": "stream",
     "text": [
      "5\n",
      "<class 'int'>\n"
     ]
    }
   ],
   "source": [
    "v3 = (5)\n",
    "print(v3)\n",
    "print(type(v3))"
   ]
  },
  {
   "cell_type": "code",
   "execution_count": 15,
   "id": "0afa1d49-ad43-43a7-a3d2-d4417b09002f",
   "metadata": {},
   "outputs": [
    {
     "name": "stdout",
     "output_type": "stream",
     "text": [
      "('a', 'b', 'C')\n",
      "<class 'tuple'>\n"
     ]
    }
   ],
   "source": [
    "# tuple constructor\n",
    "\n",
    "a = tuple((\"a\",\"b\",\"C\"))\n",
    "print(a)\n",
    "print(type(a))"
   ]
  },
  {
   "cell_type": "code",
   "execution_count": 16,
   "id": "15e2e80e-4097-493f-9804-ba0a1342beab",
   "metadata": {},
   "outputs": [
    {
     "name": "stdout",
     "output_type": "stream",
     "text": [
      "45\n"
     ]
    }
   ],
   "source": [
    "# how to do indexing\n",
    "#it is  a  positive indexxing\n",
    "\n",
    "a  =  (47,85,95,65,45,52,5,9,3,1,7)\n",
    "print(a[4])"
   ]
  },
  {
   "cell_type": "code",
   "execution_count": 17,
   "id": "6900e9e2-db9e-452b-9be3-62f7ba719e25",
   "metadata": {},
   "outputs": [
    {
     "name": "stdout",
     "output_type": "stream",
     "text": [
      "9\n"
     ]
    }
   ],
   "source": [
    "#it is a negative indexing\n",
    "\n",
    "a  =  (47,85,95,65,45,52,5,9,3,1,7)\n",
    "print(a[-4])"
   ]
  },
  {
   "cell_type": "code",
   "execution_count": 23,
   "id": "a5264371-0ca1-42e1-91ed-61d2a7f4cf06",
   "metadata": {},
   "outputs": [
    {
     "name": "stdout",
     "output_type": "stream",
     "text": [
      "python\n"
     ]
    }
   ],
   "source": [
    "a  =  (47,85,95,65,45,52,5,9,3,1,7,\"hello\",'python')\n",
    "print(a[12])"
   ]
  },
  {
   "cell_type": "code",
   "execution_count": 36,
   "id": "d8857c49-b01b-4483-9935-cda47707ec42",
   "metadata": {},
   "outputs": [
    {
     "name": "stdout",
     "output_type": "stream",
     "text": [
      "18\n",
      "(14, 51, 25, 36, 78, 96, 4525, 4)\n",
      "<class 'tuple'>\n"
     ]
    }
   ],
   "source": [
    "# sclicing in tuples\n",
    "\n",
    "a = (14,51,25,36,78,96,4525,4,55,99,85,77,56,5,651,651,61,6)\n",
    "print(len(a))\n",
    "print(a[:8])\n",
    "print(type(a))\n",
    "\n",
    "\n"
   ]
  },
  {
   "cell_type": "code",
   "execution_count": 37,
   "id": "cbfa1eae-b6a1-4772-a7bb-335f0eb37e15",
   "metadata": {},
   "outputs": [
    {
     "name": "stdout",
     "output_type": "stream",
     "text": [
      "18\n",
      "(14, 51, 25, 36, 78, 96, 4525, 4, 55, 99, 85, 77, 56, 5, 651, 651, 61, 6)\n",
      "<class 'tuple'>\n"
     ]
    }
   ],
   "source": [
    "a = (14,51,25,36,78,96,4525,4,55,99,85,77,56,5,651,651,61,6)\n",
    "print(len(a))\n",
    "print(a[:])\n",
    "print(type(a))"
   ]
  },
  {
   "cell_type": "code",
   "execution_count": 40,
   "id": "4a7b0fff-5d2b-4ca5-a812-6e3125f8e16d",
   "metadata": {},
   "outputs": [
    {
     "name": "stdout",
     "output_type": "stream",
     "text": [
      "18\n",
      "(14, 25, 78, 4525, 55, 85, 56, 651, 61)\n",
      "<class 'tuple'>\n"
     ]
    }
   ],
   "source": [
    "a = (14,51,25,36,78,96,4525,4,55,99,85,77,56,5,651,651,61,6)\n",
    "print(len(a))\n",
    "print(a[::2])\n",
    "print(type(a))"
   ]
  },
  {
   "cell_type": "code",
   "execution_count": 41,
   "id": "caac74a1-8b1f-4882-bda2-78abf93f197c",
   "metadata": {},
   "outputs": [
    {
     "name": "stdout",
     "output_type": "stream",
     "text": [
      "18\n",
      "(6, 651, 5, 77, 99, 4, 96, 36, 51)\n",
      "<class 'tuple'>\n"
     ]
    }
   ],
   "source": [
    "#how to reverse\n",
    "\n",
    "a = (14,51,25,36,78,96,4525,4,55,99,85,77,56,5,651,651,61,6)\n",
    "print(len(a))\n",
    "print(a[::-2])\n",
    "print(type(a))\n"
   ]
  },
  {
   "cell_type": "code",
   "execution_count": 42,
   "id": "24f28eaf-6bb0-4e24-9f24-ad7eb666538a",
   "metadata": {},
   "outputs": [
    {
     "name": "stdout",
     "output_type": "stream",
     "text": [
      "(1, 2, 3, 4, 5, 6, 7, 8)\n",
      "(4, 5, 6, 7, 8)\n",
      "(1, 2, 3, 4)\n",
      "()\n"
     ]
    }
   ],
   "source": [
    "t = (1,2,3,4,5,6,7,8)\n",
    "print(t[::])\n",
    "print(t[3:])\n",
    "print(t[:4])\n",
    "print(t[-2:-5])"
   ]
  },
  {
   "cell_type": "code",
   "execution_count": 43,
   "id": "f0f393e5-04c8-447b-b945-cf3f1f2f481f",
   "metadata": {},
   "outputs": [
    {
     "name": "stdout",
     "output_type": "stream",
     "text": [
      "(44, 55, 663, 8, 44, 85)\n",
      "<class 'tuple'>\n"
     ]
    }
   ],
   "source": [
    "t = (44,55,663,8,44,85)\n",
    "print(t)\n",
    "print(type(t))"
   ]
  },
  {
   "cell_type": "code",
   "execution_count": 44,
   "id": "f1e42fb7-b131-444b-810e-66a477ae96f2",
   "metadata": {},
   "outputs": [
    {
     "name": "stdout",
     "output_type": "stream",
     "text": [
      "(25, 26, 27, 28, 29, 30)\n"
     ]
    }
   ],
   "source": [
    "# convert tuples to list the again convert list to tuple\n",
    "\n",
    "a =(25,26,27,28,29)\n",
    "y = list(a)\n",
    "y.append(30)\n",
    "a = tuple(y)\n",
    "print(a)"
   ]
  },
  {
   "cell_type": "code",
   "execution_count": 45,
   "id": "a74089e3-00ce-4a61-8d49-21338ed336ce",
   "metadata": {},
   "outputs": [
    {
     "name": "stdout",
     "output_type": "stream",
     "text": [
      "(25, 26, 27, 29)\n"
     ]
    }
   ],
   "source": [
    "# convert tuples to list the again convert list to tuple \n",
    "# to remove\n",
    "\n",
    "a =(25,26,27,28,29)\n",
    "y = list(a)\n",
    "y.remove(28)\n",
    "a = tuple(y)\n",
    "print(a)"
   ]
  },
  {
   "cell_type": "code",
   "execution_count": 53,
   "id": "31a6703e-86d6-4ed2-bd3d-7f8db3cfeb1c",
   "metadata": {},
   "outputs": [
    {
     "ename": "NameError",
     "evalue": "name 'a' is not defined",
     "output_type": "error",
     "traceback": [
      "\u001b[1;31m---------------------------------------------------------------------------\u001b[0m",
      "\u001b[1;31mNameError\u001b[0m                                 Traceback (most recent call last)",
      "Cell \u001b[1;32mIn[53], line 4\u001b[0m\n\u001b[0;32m      2\u001b[0m a \u001b[38;5;241m=\u001b[39m (\u001b[38;5;241m1\u001b[39m,\u001b[38;5;241m2\u001b[39m,\u001b[38;5;241m3\u001b[39m,\u001b[38;5;241m4\u001b[39m,\u001b[38;5;241m5\u001b[39m,\u001b[38;5;241m6\u001b[39m,\u001b[38;5;241m7\u001b[39m,\u001b[38;5;241m8\u001b[39m,\u001b[38;5;241m9\u001b[39m)\n\u001b[0;32m      3\u001b[0m \u001b[38;5;28;01mdel\u001b[39;00m a \n\u001b[1;32m----> 4\u001b[0m \u001b[38;5;28mprint\u001b[39m(a)\n",
      "\u001b[1;31mNameError\u001b[0m: name 'a' is not defined"
     ]
    }
   ],
   "source": [
    "# for delete tuples\n",
    "a = (1,2,3,4,5,6,7,8,9)\n",
    "del a \n",
    "print(a)\n"
   ]
  },
  {
   "cell_type": "code",
   "execution_count": 48,
   "id": "67c12f5c-062c-40ae-9b98-0cfb9b644fad",
   "metadata": {},
   "outputs": [
    {
     "name": "stdout",
     "output_type": "stream",
     "text": [
      "a\n",
      "b\n",
      "c\n"
     ]
    }
   ],
   "source": [
    "#   loop \n",
    "\n",
    "T = (\"a\",'b','c')\n",
    "for x in T:\n",
    "    print(x)\n",
    "\n"
   ]
  },
  {
   "cell_type": "code",
   "execution_count": 49,
   "id": "8c35feb6-45a4-4f38-a1ea-9573280d165e",
   "metadata": {},
   "outputs": [
    {
     "name": "stdout",
     "output_type": "stream",
     "text": [
      "('a', 'b', 'c', 1, 5, 8, 96)\n"
     ]
    }
   ],
   "source": [
    "    #join two tuples\n",
    "\n",
    "t1 = ('a','b','c')\n",
    "t2 = (1,5,8,96)\n",
    "t3 = t1 + t2\n",
    "print(t3)\n"
   ]
  },
  {
   "cell_type": "code",
   "execution_count": 55,
   "id": "5ec36c78-9ccf-409d-a965-ebe899f587ed",
   "metadata": {},
   "outputs": [
    {
     "name": "stdout",
     "output_type": "stream",
     "text": [
      "('apple', 'data', 'python', 'apple', 'data', 'python')\n",
      "('apple', 'data', 'python', 'apple', 'data', 'python', 'apple', 'data', 'python', 'apple', 'data', 'python')\n"
     ]
    }
   ],
   "source": [
    "    # multiply\n",
    "\n",
    "a = ('apple','data','python') \n",
    "b = a*2\n",
    "c = a * 4\n",
    "print(b)\n",
    "print(c)"
   ]
  },
  {
   "cell_type": "code",
   "execution_count": 56,
   "id": "5344b5a3-d510-412c-a5cb-54ee8eec1c5a",
   "metadata": {},
   "outputs": [
    {
     "name": "stdout",
     "output_type": "stream",
     "text": [
      "(1, 2, 3, 4, 5, 6, 7, 8, 1, 2, 3, 4, 5, 6, 7, 8)\n",
      "(1, 2, 3, 4, 5, 6, 7, 8, 1, 2, 3, 4, 5, 6, 7, 8, 1, 2, 3, 4, 5, 6, 7, 8)\n",
      "(1, 2, 3, 4, 5, 6, 7, 8, 1, 2, 3, 4, 5, 6, 7, 8)\n",
      "8\n"
     ]
    }
   ],
   "source": [
    "t = (1,2,3,4,5,6,7,8)\n",
    "print(t*2)\n",
    "print(t+t+t)\n",
    "print(t+t)\n",
    "print(len(t))"
   ]
  },
  {
   "cell_type": "code",
   "execution_count": 62,
   "id": "0356fea7-3c94-45da-a212-552b0f23b774",
   "metadata": {},
   "outputs": [
    {
     "name": "stdin",
     "output_type": "stream",
     "text": [
      "enter the values 10\n"
     ]
    },
    {
     "name": "stdout",
     "output_type": "stream",
     "text": [
      "(10,)\n"
     ]
    },
    {
     "name": "stdin",
     "output_type": "stream",
     "text": [
      "enter the values 20\n"
     ]
    },
    {
     "name": "stdout",
     "output_type": "stream",
     "text": [
      "(10, 20)\n"
     ]
    },
    {
     "name": "stdin",
     "output_type": "stream",
     "text": [
      "enter the values 30\n"
     ]
    },
    {
     "name": "stdout",
     "output_type": "stream",
     "text": [
      "(10, 20, 30)\n"
     ]
    },
    {
     "name": "stdin",
     "output_type": "stream",
     "text": [
      "enter the values 40\n"
     ]
    },
    {
     "name": "stdout",
     "output_type": "stream",
     "text": [
      "(10, 20, 30, 40)\n"
     ]
    },
    {
     "name": "stdin",
     "output_type": "stream",
     "text": [
      "enter the values 50\n"
     ]
    },
    {
     "name": "stdout",
     "output_type": "stream",
     "text": [
      "(10, 20, 30, 40, 50)\n"
     ]
    },
    {
     "name": "stdin",
     "output_type": "stream",
     "text": [
      "enter the values 60\n"
     ]
    },
    {
     "name": "stdout",
     "output_type": "stream",
     "text": [
      "(10, 20, 30, 40, 50, 60)\n"
     ]
    }
   ],
   "source": [
    "t = ()\n",
    "i = 0\n",
    "for x in i<=5:\n",
    "\n",
    "    num = int(input(\"enter the values\"))\n",
    "    t = t + (num,)\n",
    "    i = i + 1\n",
    "    print(x)"
   ]
  },
  {
   "cell_type": "code",
   "execution_count": 64,
   "id": "dc7b1900-bd2f-4e74-939a-b9e3c52989cb",
   "metadata": {},
   "outputs": [
    {
     "name": "stdin",
     "output_type": "stream",
     "text": [
      "enter the values 10\n"
     ]
    },
    {
     "name": "stdout",
     "output_type": "stream",
     "text": [
      "(10,)\n"
     ]
    },
    {
     "name": "stdin",
     "output_type": "stream",
     "text": [
      "enter the values 20\n"
     ]
    },
    {
     "name": "stdout",
     "output_type": "stream",
     "text": [
      "(10, 20)\n"
     ]
    },
    {
     "name": "stdin",
     "output_type": "stream",
     "text": [
      "enter the values 30\n"
     ]
    },
    {
     "name": "stdout",
     "output_type": "stream",
     "text": [
      "(10, 20, 30)\n"
     ]
    },
    {
     "name": "stdin",
     "output_type": "stream",
     "text": [
      "enter the values 40\n"
     ]
    },
    {
     "name": "stdout",
     "output_type": "stream",
     "text": [
      "(10, 20, 30, 40)\n"
     ]
    },
    {
     "name": "stdin",
     "output_type": "stream",
     "text": [
      "enter the values 50\n"
     ]
    },
    {
     "name": "stdout",
     "output_type": "stream",
     "text": [
      "(10, 20, 30, 40, 50)\n"
     ]
    },
    {
     "name": "stdin",
     "output_type": "stream",
     "text": [
      "enter the values 60\n"
     ]
    },
    {
     "name": "stdout",
     "output_type": "stream",
     "text": [
      "(10, 20, 30, 40, 50, 60)\n"
     ]
    }
   ],
   "source": [
    "t = ()\n",
    "i = 0\n",
    "\n",
    "while i <= 5:\n",
    "    num = int(input(\"enter the values\"))\n",
    "    t = t + (num,)\n",
    "    i = i + 1\n",
    "    print(t)"
   ]
  },
  {
   "cell_type": "markdown",
   "id": "7b560c71-5553-4d23-ae87-bbde0b56c81f",
   "metadata": {},
   "source": [
    "             Dictionary in python\n",
    "\n",
    "             we can add , remove , \n",
    "             it is dynamic\n",
    "\n",
    "             it is ordered , changeable , does not allow duplicates\n",
    "\n",
    "             it use key : value pair"
   ]
  },
  {
   "cell_type": "code",
   "execution_count": 72,
   "id": "01c11997-9f56-4067-bc11-f6e8ef1866cc",
   "metadata": {},
   "outputs": [
    {
     "name": "stdout",
     "output_type": "stream",
     "text": [
      "{'ID': '123abc', 'color': 'red', 'year': 2001}\n",
      "<class 'dict'>\n",
      "3\n"
     ]
    }
   ],
   "source": [
    "a = {\n",
    "    \"ID\" : \"123abc\" , \n",
    "    \"color\" : \"red\",\n",
    "    \"year\" : 2001\n",
    "}\n",
    "print(a)\n",
    "print(type(a))\n",
    "print(len(a))"
   ]
  },
  {
   "cell_type": "code",
   "execution_count": 73,
   "id": "8e1bbd60-7ea6-4b77-a739-9aa249d5f2f5",
   "metadata": {},
   "outputs": [
    {
     "name": "stdout",
     "output_type": "stream",
     "text": [
      "{'ID': '123abc', 'color': 'red', 'year': 2001}\n",
      "<class 'dict'>\n",
      "3\n",
      "red\n"
     ]
    }
   ],
   "source": [
    "# check it is order or not\n",
    "\n",
    "a = {\n",
    "    \"ID\" : \"123abc\" , \n",
    "    \"color\" : \"red\",\n",
    "    \"year\" : 2001\n",
    "}\n",
    "print(a)\n",
    "print(type(a))\n",
    "print(len(a))\n",
    "print(a[\"color\"])"
   ]
  },
  {
   "cell_type": "code",
   "execution_count": 76,
   "id": "0d726f63-369c-449a-8428-0e11fba45cc7",
   "metadata": {},
   "outputs": [
    {
     "name": "stdout",
     "output_type": "stream",
     "text": [
      "{'ID': '123abc', 'color': 'red', 'year': 2024}\n",
      "<class 'dict'>\n",
      "3\n"
     ]
    }
   ],
   "source": [
    "# check if it allow duplicate or not\n",
    "\n",
    "a = {\n",
    "    \"ID\" : \"123abc\" , \n",
    "    \"color\" : \"red\",\n",
    "    \"year\" : 2001,\n",
    "    \"year\" : 2024\n",
    "}\n",
    "print(a)\n",
    "print(type(a))\n",
    "print(len(a))\n"
   ]
  },
  {
   "cell_type": "code",
   "execution_count": 86,
   "id": "3a15346c-e959-4eff-bf09-d686c2bda824",
   "metadata": {},
   "outputs": [
    {
     "name": "stdout",
     "output_type": "stream",
     "text": [
      "{'ID': '123abc', 'color': 'red', 'year': 2001, 'dict': [12, 2, 3, 4, 5], 'b': (12, 23, 3.5, 5), 'c': False}\n",
      "<class 'dict'>\n",
      "6\n"
     ]
    }
   ],
   "source": [
    "# length of dictionary\n",
    "a = {\n",
    "    \"ID\" : \"123abc\" , \n",
    "    \"color\" : \"red\",\n",
    "    \"year\" : 2001,\n",
    "    \"dict\" : [12,2,3,4,5],\n",
    "    \"b\" : (12,23,3.5,5),\n",
    "    \"c\" : False,\n",
    "\n",
    "}\n",
    "\n",
    "print(a)\n",
    "print(type(a))\n",
    "print(len(a))"
   ]
  },
  {
   "cell_type": "code",
   "execution_count": 96,
   "id": "d3a01a9f-bbd1-41fc-bdc5-94429c9af313",
   "metadata": {},
   "outputs": [
    {
     "name": "stdout",
     "output_type": "stream",
     "text": [
      "{'name': 'yash', 'age': 23, 'num': 8850184614}\n",
      "<class 'dict'>\n"
     ]
    }
   ],
   "source": [
    "a = dict(name = \"yash\", age = 23 , num = 8850184614)\n",
    "print(a)\n",
    "print(type(a))"
   ]
  },
  {
   "cell_type": "code",
   "execution_count": 97,
   "id": "371271fc-f721-42da-ae03-0eebd7925625",
   "metadata": {},
   "outputs": [
    {
     "name": "stdout",
     "output_type": "stream",
     "text": [
      "yash\n",
      "<class 'dict'>\n"
     ]
    }
   ],
   "source": [
    "a = dict(name = \"yash\", age = 23 , num = 8850184614)\n",
    "print(a.get(\"name\"))\n",
    "print(type(a))"
   ]
  },
  {
   "cell_type": "code",
   "execution_count": 98,
   "id": "0589f6c4-758e-4599-b4a9-34c7354e1ba8",
   "metadata": {},
   "outputs": [
    {
     "data": {
      "text/plain": [
       "dict_keys(['name', 'age', 'num'])"
      ]
     },
     "execution_count": 98,
     "metadata": {},
     "output_type": "execute_result"
    }
   ],
   "source": [
    "a = dict(name = \"yash\", age = 23 , num = 8850184614)\n",
    "\n",
    "x = a.keys()\n",
    "\n",
    "x\n"
   ]
  },
  {
   "cell_type": "code",
   "execution_count": 99,
   "id": "5c11fa93-be0d-47b2-a33f-45ecac12e23a",
   "metadata": {},
   "outputs": [
    {
     "data": {
      "text/plain": [
       "dict_values(['yash', 23, 8850184614])"
      ]
     },
     "execution_count": 99,
     "metadata": {},
     "output_type": "execute_result"
    }
   ],
   "source": [
    "a = dict(name = \"yash\", age = 23 , num = 8850184614)\n",
    "\n",
    "y = a.values()\n",
    "\n",
    "y\n"
   ]
  },
  {
   "cell_type": "code",
   "execution_count": 104,
   "id": "d1f8cbb0-079b-4de6-89e4-e6957beef188",
   "metadata": {},
   "outputs": [
    {
     "name": "stdout",
     "output_type": "stream",
     "text": [
      "{'name': 'yash', 'age': 24, 'num': 8850184614}\n"
     ]
    }
   ],
   "source": [
    " # how to change \n",
    "\n",
    "a = {\n",
    "    'name' : \"yash\", \n",
    "    'age' : 23 , \n",
    "    'num' : 8850184614\n",
    "}\n",
    "a['age'] = 24\n",
    "print(a)\n"
   ]
  },
  {
   "cell_type": "code",
   "execution_count": 109,
   "id": "627a382d-3238-4f32-ba65-02a0382dcf10",
   "metadata": {},
   "outputs": [
    {
     "name": "stdout",
     "output_type": "stream",
     "text": [
      "{'name': 'yash', 'age': 23, 'num': 8850184614, 'mail': 'parekhyash5@gmail.com'}\n"
     ]
    }
   ],
   "source": [
    " # how to add using update method\n",
    "\n",
    "a = {\n",
    "    'name' : \"yash\", \n",
    "    'age' : 23 , \n",
    "    'num' : 8850184614\n",
    "}\n",
    "a.update({\"mail\" : \"parekhyash5@gmail.com\" }) \n",
    "print(a)"
   ]
  },
  {
   "cell_type": "code",
   "execution_count": 110,
   "id": "6ab8b758-382b-4391-9253-8166daa01e56",
   "metadata": {},
   "outputs": [
    {
     "name": "stdout",
     "output_type": "stream",
     "text": [
      "{'name': 'yash', 'num': 8850184614}\n"
     ]
    }
   ],
   "source": [
    "#how to delete\n",
    "a = {\n",
    "    'name' : \"yash\", \n",
    "    'age' : 23 , \n",
    "    'num' : 8850184614\n",
    "}\n",
    "a.pop('age')\n",
    "print(a)"
   ]
  },
  {
   "cell_type": "code",
   "execution_count": 118,
   "id": "1ef90c3e-3b4f-460a-b8d1-9e39e9451400",
   "metadata": {},
   "outputs": [
    {
     "name": "stdout",
     "output_type": "stream",
     "text": [
      "{'name': 'yash', 'num': 8850184614, '1': '59'}\n"
     ]
    }
   ],
   "source": [
    "a = {\n",
    "    'name' : \"yash\", \n",
    "    'age' : 23 , \n",
    "    'num' : 8850184614,\n",
    "    '1':'59'\n",
    "}\n",
    "del a['age']\n",
    "print(a)"
   ]
  },
  {
   "cell_type": "code",
   "execution_count": 114,
   "id": "39abb594-bba4-4ee3-9026-dff5174b8ba3",
   "metadata": {},
   "outputs": [
    {
     "ename": "NameError",
     "evalue": "name 'a' is not defined",
     "output_type": "error",
     "traceback": [
      "\u001b[1;31m---------------------------------------------------------------------------\u001b[0m",
      "\u001b[1;31mNameError\u001b[0m                                 Traceback (most recent call last)",
      "Cell \u001b[1;32mIn[114], line 7\u001b[0m\n\u001b[0;32m      1\u001b[0m a \u001b[38;5;241m=\u001b[39m {\n\u001b[0;32m      2\u001b[0m     \u001b[38;5;124m'\u001b[39m\u001b[38;5;124mname\u001b[39m\u001b[38;5;124m'\u001b[39m : \u001b[38;5;124m\"\u001b[39m\u001b[38;5;124myash\u001b[39m\u001b[38;5;124m\"\u001b[39m, \n\u001b[0;32m      3\u001b[0m     \u001b[38;5;124m'\u001b[39m\u001b[38;5;124mage\u001b[39m\u001b[38;5;124m'\u001b[39m : \u001b[38;5;241m23\u001b[39m , \n\u001b[0;32m      4\u001b[0m     \u001b[38;5;124m'\u001b[39m\u001b[38;5;124mnum\u001b[39m\u001b[38;5;124m'\u001b[39m : \u001b[38;5;241m8850184614\u001b[39m\n\u001b[0;32m      5\u001b[0m }\n\u001b[0;32m      6\u001b[0m \u001b[38;5;28;01mdel\u001b[39;00m a\n\u001b[1;32m----> 7\u001b[0m \u001b[38;5;28mprint\u001b[39m(a)\n",
      "\u001b[1;31mNameError\u001b[0m: name 'a' is not defined"
     ]
    }
   ],
   "source": [
    "a = {\n",
    "    'name' : \"yash\", \n",
    "    'age' : 23 , \n",
    "    'num' : 8850184614\n",
    "}\n",
    "del a\n",
    "print(a)"
   ]
  },
  {
   "cell_type": "code",
   "execution_count": 117,
   "id": "fcbff64d-4a4f-4833-acf3-7cb4baabb76f",
   "metadata": {},
   "outputs": [
    {
     "name": "stdout",
     "output_type": "stream",
     "text": [
      "{}\n",
      "<class 'dict'>\n"
     ]
    }
   ],
   "source": [
    "#clear  method\n",
    "a = {\n",
    "    'name' : \"yash\", \n",
    "    'age' : 23 , \n",
    "    'num' : 8850184614,\n",
    "    '1':'59'\n",
    "}\n",
    "a.clear()\n",
    "print(a)\n",
    "print(type(a))"
   ]
  },
  {
   "cell_type": "code",
   "execution_count": 119,
   "id": "28913a8d-1a4b-42a1-81fd-5697b074fd18",
   "metadata": {},
   "outputs": [
    {
     "name": "stdout",
     "output_type": "stream",
     "text": [
      "{1: 10, 2: 20, 3: 30, 4: 40, 5: 50, 6: 60}\n"
     ]
    }
   ],
   "source": [
    "#concanination\n",
    "\n",
    "dict1  = {1: 10, 2:20}\n",
    "dict2 = {3:30,4:40}\n",
    "dict3 = {5:50,6:60}\n",
    "dict4 ={}\n",
    "for d in (dict1,dict2,dict3): dict4.update(d)\n",
    "print(dict4)"
   ]
  },
  {
   "cell_type": "code",
   "execution_count": 120,
   "id": "dc35e451-65ea-4ba4-be75-f7e7b89b3038",
   "metadata": {},
   "outputs": [
    {
     "name": "stdout",
     "output_type": "stream",
     "text": [
      "{1: 1}\n",
      "{1: 1, 2: 4}\n",
      "{1: 1, 2: 4, 3: 9}\n",
      "{1: 1, 2: 4, 3: 9, 4: 16}\n",
      "{1: 1, 2: 4, 3: 9, 4: 16, 5: 25}\n",
      "{1: 1, 2: 4, 3: 9, 4: 16, 5: 25, 6: 36}\n",
      "{1: 1, 2: 4, 3: 9, 4: 16, 5: 25, 6: 36, 7: 49}\n",
      "{1: 1, 2: 4, 3: 9, 4: 16, 5: 25, 6: 36, 7: 49, 8: 64}\n",
      "{1: 1, 2: 4, 3: 9, 4: 16, 5: 25, 6: 36, 7: 49, 8: 64, 9: 81}\n",
      "{1: 1, 2: 4, 3: 9, 4: 16, 5: 25, 6: 36, 7: 49, 8: 64, 9: 81, 10: 100}\n",
      "{1: 1, 2: 4, 3: 9, 4: 16, 5: 25, 6: 36, 7: 49, 8: 64, 9: 81, 10: 100, 11: 121}\n",
      "{1: 1, 2: 4, 3: 9, 4: 16, 5: 25, 6: 36, 7: 49, 8: 64, 9: 81, 10: 100, 11: 121, 12: 144}\n",
      "{1: 1, 2: 4, 3: 9, 4: 16, 5: 25, 6: 36, 7: 49, 8: 64, 9: 81, 10: 100, 11: 121, 12: 144, 13: 169}\n",
      "{1: 1, 2: 4, 3: 9, 4: 16, 5: 25, 6: 36, 7: 49, 8: 64, 9: 81, 10: 100, 11: 121, 12: 144, 13: 169, 14: 196}\n",
      "{1: 1, 2: 4, 3: 9, 4: 16, 5: 25, 6: 36, 7: 49, 8: 64, 9: 81, 10: 100, 11: 121, 12: 144, 13: 169, 14: 196, 15: 225}\n"
     ]
    }
   ],
   "source": [
    "d = dict()\n",
    "for x in range(1,16):\n",
    "    d[x] = x**2\n",
    "    print(d)\n"
   ]
  },
  {
   "cell_type": "code",
   "execution_count": 121,
   "id": "e9373951-b9f4-435a-affb-859593b60251",
   "metadata": {},
   "outputs": [
    {
     "name": "stdout",
     "output_type": "stream",
     "text": [
      "yash\n"
     ]
    }
   ],
   "source": [
    "e = {\n",
    "    'name' : \"yash\", \n",
    "    'age' : 23 , \n",
    "    'num' : 8850184614,\n",
    "    '1':'59'\n",
    "    \n",
    "}\n",
    "print(e['name'])"
   ]
  },
  {
   "cell_type": "markdown",
   "id": "a70c5e59-2375-45d0-9f19-508f1b2a6afd",
   "metadata": {},
   "source": [
    "\n",
    "        Sets \n",
    "it can be simply as a well-defined collection of object\n",
    "\n",
    "sets are used to store multiple items\n",
    "\n",
    "it is a collection of unordered , unchangeable , unindexed\n",
    "\n"
   ]
  },
  {
   "cell_type": "code",
   "execution_count": 1,
   "id": "5d0cf45a-99a2-4bb3-82b1-6169b5306ee1",
   "metadata": {},
   "outputs": [
    {
     "name": "stdout",
     "output_type": "stream",
     "text": [
      "{'animals', 'ball', 'cat'}\n",
      "<class 'set'>\n"
     ]
    }
   ],
   "source": [
    "    #creating a set \n",
    "a = {\"animals\" , 'ball' , 'cat'}\n",
    "print(a)\n",
    "print(type(a))"
   ]
  },
  {
   "cell_type": "code",
   "execution_count": 7,
   "id": "ad747996-e6da-48a7-89cb-14c8d7a8f57b",
   "metadata": {},
   "outputs": [
    {
     "name": "stdout",
     "output_type": "stream",
     "text": [
      "{'balls', 'animals', 'cat'}\n"
     ]
    }
   ],
   "source": [
    "# set item are unordered\n",
    "\n",
    "a = {'balls','animals', 'cat'}\n",
    "\n",
    "print(a)\n"
   ]
  },
  {
   "cell_type": "code",
   "execution_count": 6,
   "id": "66e19183-5088-489c-8fe4-9f170a721b12",
   "metadata": {},
   "outputs": [
    {
     "name": "stdout",
     "output_type": "stream",
     "text": [
      "animals\n",
      "balls\n",
      "cat\n"
     ]
    }
   ],
   "source": [
    "a = {'animals', 'balls', 'cat'}\n",
    "for x in a:\n",
    "    print(x)"
   ]
  },
  {
   "cell_type": "code",
   "execution_count": 10,
   "id": "f8f9460e-c085-491e-8eef-739aa7bc13ac",
   "metadata": {},
   "outputs": [
    {
     "name": "stdout",
     "output_type": "stream",
     "text": [
      "{'balls', 'animals', 'animal', 'cat'}\n"
     ]
    }
   ],
   "source": [
    "        #duplicates not allowed\n",
    "\n",
    "a = {'balls','animals', 'cat', 'balls',  'animal'}\n",
    "\n",
    "print(a)"
   ]
  },
  {
   "cell_type": "code",
   "execution_count": 14,
   "id": "3309443d-6112-4977-a967-593c9073e5d3",
   "metadata": {},
   "outputs": [
    {
     "name": "stdout",
     "output_type": "stream",
     "text": [
      "{False, 1, 2, 3, 'animals', 'balls', 'animal', 'cat'}\n"
     ]
    }
   ],
   "source": [
    "      #True and 1 is consider the same value\n",
    "\n",
    "a = {'balls','animals', 'cat', 'balls',  'animal',1,2,3,True,False}\n",
    "\n",
    "print(a)"
   ]
  },
  {
   "cell_type": "code",
   "execution_count": 15,
   "id": "f24963d9-9216-4724-a0f9-aeada5fd7a2b",
   "metadata": {},
   "outputs": [
    {
     "name": "stdout",
     "output_type": "stream",
     "text": [
      "{False, 1, 2, 3, 'animals', 'balls', 'animal', 'cat'}\n",
      "8\n",
      "<class 'set'>\n"
     ]
    }
   ],
   "source": [
    "#get a length of a set\n",
    "\n",
    "a = {'balls','animals', 'cat', 'balls',  'animal',1,2,3,True,False}\n",
    "print(a)\n",
    "print(len(a))\n",
    "print(type(a))\n"
   ]
  },
  {
   "cell_type": "code",
   "execution_count": 19,
   "id": "e7ff76fd-a2fc-4816-b82e-a686717166ca",
   "metadata": {},
   "outputs": [
    {
     "name": "stdout",
     "output_type": "stream",
     "text": [
      "{1, 2, 3, 4, 5} {1.2, 2.3, 3.4, 4.5, 5.6} ('a', 'b', 'c') {False, True}\n",
      "<class 'set'>\n"
     ]
    }
   ],
   "source": [
    "  #  what will  bethe data type\n",
    "  #  set items - data types\n",
    "\n",
    "x1 = {1,2,3,4,5}\n",
    "x2 = {1.2,2.3,3.4,4.5,5.6}\n",
    "x3 = ('a','b','c')\n",
    "x4 = {True,False,True}\n",
    "print(x1,x2,x3,x4)\n",
    "print(type(x1))"
   ]
  },
  {
   "cell_type": "code",
   "execution_count": 20,
   "id": "81cdc883-180d-4b3c-a415-a6d85af2d87d",
   "metadata": {},
   "outputs": [
    {
     "name": "stdout",
     "output_type": "stream",
     "text": [
      "{1, (6+4j), 5, 'apple', -8, -85, 79}\n"
     ]
    }
   ],
   "source": [
    "m = {1,5,-8,79,-85,6+4j,'apple',True}\n",
    "print(m)"
   ]
  },
  {
   "cell_type": "code",
   "execution_count": 21,
   "id": "3ca023c0-34bd-4aa9-bfb4-b473eaf6036b",
   "metadata": {},
   "outputs": [
    {
     "ename": "TypeError",
     "evalue": "unhashable type: 'list'",
     "output_type": "error",
     "traceback": [
      "\u001b[1;31m---------------------------------------------------------------------------\u001b[0m",
      "\u001b[1;31mTypeError\u001b[0m                                 Traceback (most recent call last)",
      "Cell \u001b[1;32mIn[21], line 1\u001b[0m\n\u001b[1;32m----> 1\u001b[0m x5 \u001b[38;5;241m=\u001b[39m {[\u001b[38;5;241m1\u001b[39m,\u001b[38;5;241m2\u001b[39m,\u001b[38;5;241m3\u001b[39m,\u001b[38;5;241m4\u001b[39m,\u001b[38;5;241m5\u001b[39m]}\n\u001b[0;32m      2\u001b[0m \u001b[38;5;28mprint\u001b[39m(x5)\n",
      "\u001b[1;31mTypeError\u001b[0m: unhashable type: 'list'"
     ]
    }
   ],
   "source": [
    "x5 = {[1,2,3,4,5]}\n",
    "print(x5)"
   ]
  },
  {
   "cell_type": "code",
   "execution_count": 22,
   "id": "7888ff01-34ee-49f2-9498-e9810a8a8c6f",
   "metadata": {},
   "outputs": [
    {
     "name": "stdout",
     "output_type": "stream",
     "text": [
      "{(1, 2, 3, 4, 5)}\n"
     ]
    }
   ],
   "source": [
    "# tuples can be immutable\n",
    "x5 = {(1,2,3,4,5)}\n",
    "print(x5)"
   ]
  },
  {
   "cell_type": "code",
   "execution_count": 24,
   "id": "43a388ce-89bc-4508-a725-d1955c8f1eaa",
   "metadata": {},
   "outputs": [
    {
     "ename": "TypeError",
     "evalue": "unhashable type: 'dict'",
     "output_type": "error",
     "traceback": [
      "\u001b[1;31m---------------------------------------------------------------------------\u001b[0m",
      "\u001b[1;31mTypeError\u001b[0m                                 Traceback (most recent call last)",
      "Cell \u001b[1;32mIn[24], line 1\u001b[0m\n\u001b[1;32m----> 1\u001b[0m x5 \u001b[38;5;241m=\u001b[39m {{\u001b[38;5;241m1\u001b[39m:\u001b[38;5;241m2\u001b[39m,\u001b[38;5;241m3\u001b[39m:\u001b[38;5;241m4\u001b[39m}}\n\u001b[0;32m      2\u001b[0m \u001b[38;5;28mprint\u001b[39m(x5)\n",
      "\u001b[1;31mTypeError\u001b[0m: unhashable type: 'dict'"
     ]
    }
   ],
   "source": [
    "x5 = {{1:2,3:4}}\n",
    "print(x5)"
   ]
  },
  {
   "cell_type": "code",
   "execution_count": 25,
   "id": "87b9f09b-a8ef-4157-8359-1ec4858f3bd4",
   "metadata": {},
   "outputs": [
    {
     "ename": "TypeError",
     "evalue": "unhashable type: 'set'",
     "output_type": "error",
     "traceback": [
      "\u001b[1;31m---------------------------------------------------------------------------\u001b[0m",
      "\u001b[1;31mTypeError\u001b[0m                                 Traceback (most recent call last)",
      "Cell \u001b[1;32mIn[25], line 1\u001b[0m\n\u001b[1;32m----> 1\u001b[0m a \u001b[38;5;241m=\u001b[39m {{\u001b[38;5;241m1\u001b[39m,\u001b[38;5;241m2\u001b[39m,\u001b[38;5;241m3\u001b[39m,\u001b[38;5;241m4\u001b[39m},{\u001b[38;5;241m5\u001b[39m,\u001b[38;5;241m6\u001b[39m,\u001b[38;5;241m7\u001b[39m,\u001b[38;5;241m8\u001b[39m}}\n\u001b[0;32m      2\u001b[0m \u001b[38;5;28mprint\u001b[39m(a)\n",
      "\u001b[1;31mTypeError\u001b[0m: unhashable type: 'set'"
     ]
    }
   ],
   "source": [
    "a = {{1,2,3,4},{5,6,7,8}}\n",
    "print(a)"
   ]
  },
  {
   "cell_type": "code",
   "execution_count": 26,
   "id": "ce73cd89-f5b0-435f-95c6-9833168753fb",
   "metadata": {},
   "outputs": [
    {
     "name": "stdout",
     "output_type": "stream",
     "text": [
      "{'l', 'p', 'a', 'h'}\n",
      "<class 'set'>\n"
     ]
    }
   ],
   "source": [
    "# the set() constructor\n",
    "\n",
    "iset = set(('aplha'))\n",
    "print(iset)\n",
    "print(type(iset))"
   ]
  },
  {
   "cell_type": "code",
   "execution_count": 28,
   "id": "21ae6cab-6694-4ab2-846f-8c48e3fda963",
   "metadata": {},
   "outputs": [
    {
     "name": "stdout",
     "output_type": "stream",
     "text": [
      "{'beta', 'aplha', 'gamma'}\n",
      "<class 'set'>\n"
     ]
    }
   ],
   "source": [
    "iset = set(('aplha','beta','gamma'))\n",
    "print(iset)\n",
    "print(type(iset))"
   ]
  },
  {
   "cell_type": "code",
   "execution_count": 30,
   "id": "1c3b8fd1-b939-42cc-a2cc-23a4159063f8",
   "metadata": {},
   "outputs": [
    {
     "name": "stdout",
     "output_type": "stream",
     "text": [
      "{}\n",
      "<class 'dict'>\n"
     ]
    }
   ],
   "source": [
    "    # creating empty set\n",
    "\n",
    "a = {}\n",
    "print(a)\n",
    "print(type(a))"
   ]
  },
  {
   "cell_type": "code",
   "execution_count": 33,
   "id": "7483a059-16b2-47dd-a28a-0f11fed28bb6",
   "metadata": {},
   "outputs": [
    {
     "name": "stdout",
     "output_type": "stream",
     "text": [
      "set()\n",
      "<class 'set'>\n"
     ]
    }
   ],
   "source": [
    "e = set()\n",
    "print(e)\n",
    "print(type(e))"
   ]
  },
  {
   "cell_type": "code",
   "execution_count": 45,
   "id": "253241c8-fc26-40de-9365-d33c9e296972",
   "metadata": {},
   "outputs": [
    {
     "name": "stdout",
     "output_type": "stream",
     "text": [
      "b\n",
      "a\n",
      "c\n",
      "d\n"
     ]
    }
   ],
   "source": [
    "# how to acces the item\n",
    "\n",
    "a = {'a','b','c','d'}\n",
    "\n",
    "for x in a:\n",
    "    print(x)\n",
    "    #print(type(x))"
   ]
  },
  {
   "cell_type": "code",
   "execution_count": 47,
   "id": "2440fe72-b4a4-481e-8e92-8a53b0c8c4df",
   "metadata": {},
   "outputs": [
    {
     "name": "stdout",
     "output_type": "stream",
     "text": [
      "True\n",
      "11\n"
     ]
    }
   ],
   "source": [
    "        # chack if item is present in the set\n",
    "\n",
    "a = {'balls','animals', 'cat', 'balls','python','code','data' , 'animal',1,2,3,True,False}\n",
    "\n",
    "print('code' in a)\n",
    "print(len(a))"
   ]
  },
  {
   "cell_type": "code",
   "execution_count": 48,
   "id": "a03fa4d4-eaef-425a-b88f-ad3bec0373db",
   "metadata": {},
   "outputs": [
    {
     "name": "stdout",
     "output_type": "stream",
     "text": [
      "False\n"
     ]
    }
   ],
   "source": [
    "a = {'balls','animals', 'cat', 'balls','python','code','data' , 'animal',1,2,3,True,False}\n",
    "\n",
    "print('analyst' in a)"
   ]
  },
  {
   "cell_type": "code",
   "execution_count": 49,
   "id": "83028332-92eb-4088-8d57-15b98ee58a9f",
   "metadata": {},
   "outputs": [
    {
     "name": "stdout",
     "output_type": "stream",
     "text": [
      "{100, 'd', 'c', 'b', 'a'}\n"
     ]
    }
   ],
   "source": [
    "    # how to add items\n",
    "\n",
    "a = {'a','b','c','d'}\n",
    "a.add(100)\n",
    "print(a)"
   ]
  },
  {
   "cell_type": "code",
   "execution_count": 54,
   "id": "deb6b767-7dd1-4c4d-8827-aea257db15ed",
   "metadata": {},
   "outputs": [
    {
     "name": "stdout",
     "output_type": "stream",
     "text": [
      "{'d', 'c', 'b', 'a', 'e'}\n"
     ]
    }
   ],
   "source": [
    "a = {'a','b','c','d'}\n",
    "a.add('e')\n",
    "print(a)"
   ]
  },
  {
   "cell_type": "code",
   "execution_count": 58,
   "id": "cc8e9a2b-2021-4de7-84cf-1ebfeb053de7",
   "metadata": {},
   "outputs": [
    {
     "name": "stdout",
     "output_type": "stream",
     "text": [
      "{70, 40, 10, 60, 'animals', 50, 'python', 20, 30, 'balls', 'data', 'code', 'animal', 'cat'}\n",
      "14\n"
     ]
    }
   ],
   "source": [
    "    # how to update  in Set\n",
    "\n",
    "a = {'balls','animals', 'cat', 'balls','python','code','data' , 'animal'}\n",
    "x = {10,20,30,40,50,60,70}\n",
    "a.update(x)\n",
    "print(a)\n",
    "print(len(a))"
   ]
  },
  {
   "cell_type": "code",
   "execution_count": 59,
   "id": "054d1aed-b1b6-4f23-9e68-dddbe00e51f8",
   "metadata": {},
   "outputs": [
    {
     "name": "stdout",
     "output_type": "stream",
     "text": [
      "{70, 'animal', 10, 'code', 'animals', 50, 'python', 20, 'balls', 'data', 60, 30, 'cat'}\n"
     ]
    }
   ],
   "source": [
    "    # how to remove set\n",
    "n = {70, 40, 10, 60, 'animals', 50, 'python', 20, 30, 'balls', 'data', 'code', 'animal', 'cat'}\n",
    "n.remove(40)\n",
    "print(n)"
   ]
  },
  {
   "cell_type": "code",
   "execution_count": 61,
   "id": "06a4566a-731c-41ea-82b0-354fae436c83",
   "metadata": {},
   "outputs": [
    {
     "name": "stdout",
     "output_type": "stream",
     "text": [
      "{70, 40, 'animal', 10, 'code', 'animals', 50, 20, 'balls', 'data', 60, 30, 'cat'}\n"
     ]
    }
   ],
   "source": [
    "n = {70, 40, 10, 60, 'animals', 50, 'python', 20, 30, 'balls', 'data', 'code', 'animal', 'cat'}\n",
    "n.remove('python')\n",
    "print(n)"
   ]
  },
  {
   "cell_type": "code",
   "execution_count": 62,
   "id": "800e31db-274d-4220-b442-5a48749d58e1",
   "metadata": {},
   "outputs": [
    {
     "name": "stdout",
     "output_type": "stream",
     "text": [
      "{40, 'animal', 10, 'code', 'animals', 50, 'python', 20, 'balls', 'data', 60, 30, 'cat'}\n"
     ]
    }
   ],
   "source": [
    "        # how to use pop function \n",
    "    # it remove the item randomly\n",
    "\n",
    "n1 = {70, 40, 10, 60, 'animals', 50, 'python', 20, 30, 'balls', 'data', 'code', 'animal', 'cat'}\n",
    "n1.pop()\n",
    "print(n1)"
   ]
  },
  {
   "cell_type": "code",
   "execution_count": 63,
   "id": "5846ad38-8b2d-4b43-8f10-90ad6493a70e",
   "metadata": {},
   "outputs": [
    {
     "name": "stdout",
     "output_type": "stream",
     "text": [
      "set()\n"
     ]
    }
   ],
   "source": [
    "    # how to clear function\n",
    "\n",
    "n = {70, 40, 10, 60, 'animals', 50, 'python', 20, 30, 'balls', 'data', 'code', 'animal', 'cat'}\n",
    "n.clear()\n",
    "print(n)"
   ]
  },
  {
   "cell_type": "code",
   "execution_count": 64,
   "id": "c977deda-d8c7-4e49-b7f7-5956df6349c1",
   "metadata": {},
   "outputs": [
    {
     "ename": "NameError",
     "evalue": "name 'n' is not defined",
     "output_type": "error",
     "traceback": [
      "\u001b[1;31m---------------------------------------------------------------------------\u001b[0m",
      "\u001b[1;31mNameError\u001b[0m                                 Traceback (most recent call last)",
      "Cell \u001b[1;32mIn[64], line 5\u001b[0m\n\u001b[0;32m      3\u001b[0m n \u001b[38;5;241m=\u001b[39m {\u001b[38;5;241m70\u001b[39m, \u001b[38;5;241m40\u001b[39m, \u001b[38;5;241m10\u001b[39m, \u001b[38;5;241m60\u001b[39m, \u001b[38;5;124m'\u001b[39m\u001b[38;5;124manimals\u001b[39m\u001b[38;5;124m'\u001b[39m, \u001b[38;5;241m50\u001b[39m, \u001b[38;5;124m'\u001b[39m\u001b[38;5;124mpython\u001b[39m\u001b[38;5;124m'\u001b[39m, \u001b[38;5;241m20\u001b[39m, \u001b[38;5;241m30\u001b[39m, \u001b[38;5;124m'\u001b[39m\u001b[38;5;124mballs\u001b[39m\u001b[38;5;124m'\u001b[39m, \u001b[38;5;124m'\u001b[39m\u001b[38;5;124mdata\u001b[39m\u001b[38;5;124m'\u001b[39m, \u001b[38;5;124m'\u001b[39m\u001b[38;5;124mcode\u001b[39m\u001b[38;5;124m'\u001b[39m, \u001b[38;5;124m'\u001b[39m\u001b[38;5;124manimal\u001b[39m\u001b[38;5;124m'\u001b[39m, \u001b[38;5;124m'\u001b[39m\u001b[38;5;124mcat\u001b[39m\u001b[38;5;124m'\u001b[39m}\n\u001b[0;32m      4\u001b[0m \u001b[38;5;28;01mdel\u001b[39;00m n\n\u001b[1;32m----> 5\u001b[0m \u001b[38;5;28mprint\u001b[39m(n)\n",
      "\u001b[1;31mNameError\u001b[0m: name 'n' is not defined"
     ]
    }
   ],
   "source": [
    "         # how to use delete function\n",
    "\n",
    "n = {70, 40, 10, 60, 'animals', 50, 'python', 20, 30, 'balls', 'data', 'code', 'animal', 'cat'}\n",
    "del n\n",
    "print(n)"
   ]
  },
  {
   "cell_type": "code",
   "execution_count": 65,
   "id": "c6c73954-7da6-43bf-8b52-1af04f41a047",
   "metadata": {},
   "outputs": [
    {
     "name": "stdout",
     "output_type": "stream",
     "text": [
      "{'b', 1, 2, 3, 'a', 'c'}\n"
     ]
    }
   ],
   "source": [
    "\n",
    "        # how to \n",
    "        #  join two sets\n",
    "        # use union function\n",
    "\n",
    "x = {'a','b','c'}\n",
    "y ={1,2,3}\n",
    "z = x.union(y)\n",
    "print(z)\n"
   ]
  },
  {
   "cell_type": "code",
   "execution_count": 66,
   "id": "3f14855b-3b27-4e27-9efa-b652639679ee",
   "metadata": {},
   "outputs": [
    {
     "name": "stdout",
     "output_type": "stream",
     "text": [
      "org set element\n",
      "{5, 70, 40, 10, 50, 20, 60, 30}\n",
      "max value of the set is \n",
      "70\n",
      "min value of these is \n",
      "5\n",
      "<class 'set'>\n"
     ]
    }
   ],
   "source": [
    "# to find the max and min values\n",
    "\n",
    "set1 = {5,10,20,30,40,50,60,70}\n",
    "print(\"org set element\")\n",
    "print(set1)\n",
    "print('max value of the set is ')\n",
    "print(max(set1))\n",
    "print('min value of these is ')\n",
    "print(min(set1))\n",
    "print(type(set1))"
   ]
  },
  {
   "cell_type": "code",
   "execution_count": 67,
   "id": "83f164d0-7d6a-4fea-85ad-aab19717812d",
   "metadata": {},
   "outputs": [
    {
     "name": "stdout",
     "output_type": "stream",
     "text": [
      "{40, 50, 30}\n"
     ]
    }
   ],
   "source": [
    " # return a new set of identical items from two sets\n",
    "\n",
    "set1 = {10,20,30,40,50}\n",
    "set2 = {30,40,50,70,90}\n",
    "print(set1.intersection(set2))"
   ]
  },
  {
   "cell_type": "code",
   "execution_count": 71,
   "id": "9aa2a246-2020-45d2-85b2-4eeec11c373d",
   "metadata": {},
   "outputs": [
    {
     "name": "stdout",
     "output_type": "stream",
     "text": [
      "5\n",
      "50\n",
      "10\n",
      "[50, 20, 40, 10, 30]\n",
      "(50, 20, 40, 10, 30)\n",
      "<class 'set'>\n"
     ]
    }
   ],
   "source": [
    "p = {10,20,30,40,50}\n",
    "print(len(p))\n",
    "print(max(p))\n",
    "print(min(p))\n",
    "print(list(p))\n",
    "print(tuple(p))\n",
    "print(type(p))"
   ]
  },
  {
   "cell_type": "code",
   "execution_count": null,
   "id": "b5f01953-a08d-438f-bb33-993d59df44ac",
   "metadata": {},
   "outputs": [],
   "source": []
  }
 ],
 "metadata": {
  "kernelspec": {
   "display_name": "Python 3 (ipykernel)",
   "language": "python",
   "name": "python3"
  },
  "language_info": {
   "codemirror_mode": {
    "name": "ipython",
    "version": 3
   },
   "file_extension": ".py",
   "mimetype": "text/x-python",
   "name": "python",
   "nbconvert_exporter": "python",
   "pygments_lexer": "ipython3",
   "version": "3.12.7"
  }
 },
 "nbformat": 4,
 "nbformat_minor": 5
}
