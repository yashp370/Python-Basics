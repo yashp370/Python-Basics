{
 "cells": [
  {
   "cell_type": "markdown",
   "id": "99ef2a1e-40b4-4e13-9697-313e0c4bf20a",
   "metadata": {},
   "source": [
    "#   control  flow  statement"
   ]
  },
  {
   "cell_type": "markdown",
   "id": "369d66f7-141c-45de-b4af-c0eb35e5dbcb",
   "metadata": {},
   "source": [
    "# if condition\n"
   ]
  },
  {
   "cell_type": "markdown",
   "id": "1007efdf-f63d-40c9-9cd7-657351db3ffc",
   "metadata": {},
   "source": [
    "write a program to calucate the percentage of  a student in the subject maths , science "
   ]
  },
  {
   "cell_type": "code",
   "execution_count": 4,
   "id": "05b9e48e-88c6-4947-b758-4c717c3e82b5",
   "metadata": {},
   "outputs": [
    {
     "name": "stdin",
     "output_type": "stream",
     "text": [
      "Enter the name of the student yash\n",
      "Enter the marks scored in english 86\n",
      "Enter the marks scored in hindi 96\n",
      "Enter the marks scored in maths 47\n",
      "Enter the marks scored in science 89\n",
      "Enter the marks scored in social 75\n"
     ]
    },
    {
     "name": "stdout",
     "output_type": "stream",
     "text": [
      "the percent scored by student is  78.60000000000001\n"
     ]
    }
   ],
   "source": [
    "x = input(\"Enter the name of the student\")\n",
    "a = int(input(\"Enter the marks scored in english\"))\n",
    "b = int(input(\"Enter the marks scored in hindi\"))\n",
    "c = int(input(\"Enter the marks scored in maths\"))\n",
    "d = int(input(\"Enter the marks scored in science\"))\n",
    "e = int(input(\"Enter the marks scored in social\"))\n",
    "\n",
    "n = ((a+b+c+d+e)/500)*100\n",
    "print(\"the percent scored by student is \" , n)\n"
   ]
  },
  {
   "cell_type": "markdown",
   "id": "f05a8f78-a8c0-40bf-9774-1986a1d15bdc",
   "metadata": {},
   "source": [
    "if percentage is above 90 - assign a grade\n",
    "if percentage is above 75 - assign b grade\n",
    "if percentage is above 65 - assign c grade"
   ]
  },
  {
   "cell_type": "code",
   "execution_count": 11,
   "id": "7c231359-3169-4331-adfa-fc3764e8b5c1",
   "metadata": {},
   "outputs": [
    {
     "name": "stdin",
     "output_type": "stream",
     "text": [
      "Enter the percentage scored by the student 44\n"
     ]
    },
    {
     "name": "stdout",
     "output_type": "stream",
     "text": [
      "F Grade(Fail)\n"
     ]
    }
   ],
   "source": [
    "a = int(input(\"Enter the percentage scored by the student\"))\n",
    "\n",
    "if a >= 90:\n",
    "    print(\"A Grade\")\n",
    "if a>=75 and a<90 :\n",
    "    print(\"B Grade\")\n",
    "if a>=65 and a<75:\n",
    "    print(\"C Grade\")\n",
    "if a>=45 and a<65:\n",
    "    print(\"D Grade\")\n",
    "if a>=30 and a<45:\n",
    "    print(\"F Grade(Fail)\")\n"
   ]
  },
  {
   "cell_type": "markdown",
   "id": "f47ddcb3-851c-4dbc-9a3b-ad6eea7e1be0",
   "metadata": {},
   "source": [
    "if else Statement"
   ]
  },
  {
   "cell_type": "markdown",
   "id": "1b8bc59e-456c-43cb-8d2d-5ef7827fb9b4",
   "metadata": {},
   "source": [
    "write a program to display hello if number enter by user is a multiple of 5 else print byeee"
   ]
  },
  {
   "cell_type": "code",
   "execution_count": 20,
   "id": "02f12581-3303-4f5c-9161-59654d0817bf",
   "metadata": {},
   "outputs": [
    {
     "name": "stdin",
     "output_type": "stream",
     "text": [
      "Enter the number 36\n"
     ]
    },
    {
     "name": "stdout",
     "output_type": "stream",
     "text": [
      "byee\n"
     ]
    }
   ],
   "source": [
    "a = int(input(\"Enter the number\"))\n",
    "\n",
    "if a % 5 == 0:\n",
    "    print(\"hello\")\n",
    "else:\n",
    "    print(\"byee\")\n",
    "    "
   ]
  },
  {
   "cell_type": "code",
   "execution_count": 23,
   "id": "1edfc101-277d-4d06-b90f-b0d8c71b685d",
   "metadata": {},
   "outputs": [
    {
     "name": "stdin",
     "output_type": "stream",
     "text": [
      "Enter the number 0\n"
     ]
    },
    {
     "name": "stdout",
     "output_type": "stream",
     "text": [
      "Negative numer\n"
     ]
    }
   ],
   "source": [
    "a = int(input(\"Enter the number\"))\n",
    "\n",
    "if a > 0 :\n",
    "    print(\"positive number\")\n",
    "else:\n",
    "    print(\"Negative numer\")\n"
   ]
  },
  {
   "cell_type": "markdown",
   "id": "c25480a3-e529-4f97-bb9b-acdc94a94aeb",
   "metadata": {},
   "source": [
    "if - elif - else"
   ]
  },
  {
   "cell_type": "markdown",
   "id": "9e2d2125-c668-48fd-842f-e8ed1d989a8d",
   "metadata": {},
   "source": [
    "accept the city and print its monument\n",
    "delhi - red fort\n",
    "agra - taj mahal\n",
    "jaipur - jalmahal\n",
    "orissa - konak temple\n",
    "hyderabad- charminar\n",
    "other - record not found"
   ]
  },
  {
   "cell_type": "code",
   "execution_count": 25,
   "id": "54ac2ceb-d938-4c84-be5d-6574ef3951fb",
   "metadata": {},
   "outputs": [
    {
     "name": "stdin",
     "output_type": "stream",
     "text": [
      "Enter the City gujrat\n"
     ]
    },
    {
     "name": "stdout",
     "output_type": "stream",
     "text": [
      "Record not found\n"
     ]
    }
   ],
   "source": [
    "city = input(\"Enter the City\")\n",
    "\n",
    "if city == \"delhi\":\n",
    "    print(\"the monument in delhi is redfort\")\n",
    "\n",
    "elif city == \"agra\":\n",
    "    print(\"the monument in agra is taj mahal\")\n",
    "elif city == \"jaipur\":\n",
    "    print(\"the monument in jaipur is jalmahal\")\n",
    "elif city == \"orissa\":\n",
    "    print(\"the monument in orissa is konak temple\")\n",
    "elif city == \"hyderabad\":\n",
    "    print(\"the monument in hyderabad is charminar\")\n",
    "\n",
    "else:\n",
    "    print (\"Record not found\")\n",
    "\n",
    "    \n",
    "\n"
   ]
  },
  {
   "cell_type": "code",
   "execution_count": null,
   "id": "f15302c4-9e1e-4397-9ef2-50188cf8410c",
   "metadata": {},
   "outputs": [],
   "source": []
  }
 ],
 "metadata": {
  "kernelspec": {
   "display_name": "Python 3 (ipykernel)",
   "language": "python",
   "name": "python3"
  },
  "language_info": {
   "codemirror_mode": {
    "name": "ipython",
    "version": 3
   },
   "file_extension": ".py",
   "mimetype": "text/x-python",
   "name": "python",
   "nbconvert_exporter": "python",
   "pygments_lexer": "ipython3",
   "version": "3.12.7"
  }
 },
 "nbformat": 4,
 "nbformat_minor": 5
}
