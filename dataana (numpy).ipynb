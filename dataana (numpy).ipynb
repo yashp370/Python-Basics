{
 "cells": [
  {
   "cell_type": "markdown",
   "id": "27522b6c-116d-4530-aa77-7e761ef15ec3",
   "metadata": {},
   "source": [
    "    Numpy in python"
   ]
  },
  {
   "cell_type": "code",
   "execution_count": 1,
   "id": "37b7a04a-bac2-4613-9513-068736181daf",
   "metadata": {},
   "outputs": [],
   "source": [
    "import numpy as np\n"
   ]
  },
  {
   "cell_type": "code",
   "execution_count": 3,
   "id": "d1b2a08c-0815-4496-9177-9464347bab33",
   "metadata": {},
   "outputs": [
    {
     "name": "stdout",
     "output_type": "stream",
     "text": [
      "[1 2 3 4 5]\n",
      "<class 'numpy.ndarray'>\n"
     ]
    }
   ],
   "source": [
    "arr = np.array([1,2,3,4,5])\n",
    "print(arr)\n",
    "print(type(arr))"
   ]
  },
  {
   "cell_type": "code",
   "execution_count": 4,
   "id": "5790b7d3-9dc1-4159-95bd-a80cecd63b58",
   "metadata": {},
   "outputs": [
    {
     "name": "stdout",
     "output_type": "stream",
     "text": [
      "[1 2 3 4 5]\n",
      "<class 'numpy.ndarray'>\n"
     ]
    }
   ],
   "source": [
    "import numpy as np\n",
    "     # use of tuples\n",
    "arr = np.array((1,2,3,4,5))\n",
    "print(arr)\n",
    "print(type(arr))"
   ]
  },
  {
   "cell_type": "code",
   "execution_count": 9,
   "id": "e746cc6b-36a3-4a5a-ad11-e4fa68023830",
   "metadata": {},
   "outputs": [
    {
     "name": "stdout",
     "output_type": "stream",
     "text": [
      "10\n",
      "<class 'numpy.ndarray'>\n",
      "0\n"
     ]
    }
   ],
   "source": [
    "import numpy as np\n",
    "\n",
    "# dimension in arrays - 1,2,3\n",
    "\n",
    "arr = np.array(10)\n",
    "print(arr)\n",
    "print(type(arr))\n",
    "print(arr.ndim)\n",
    "\n"
   ]
  },
  {
   "cell_type": "code",
   "execution_count": 11,
   "id": "02c20418-2e8c-4a16-bd00-919e29d47a59",
   "metadata": {},
   "outputs": [
    {
     "name": "stdout",
     "output_type": "stream",
     "text": [
      "[10 20 30]\n",
      "<class 'numpy.ndarray'>\n",
      "1\n"
     ]
    }
   ],
   "source": [
    "# 1 d arrays\n",
    "import numpy as np\n",
    "arr = np.array([10,20,30])\n",
    "print(arr)\n",
    "print(type(arr))\n",
    "print(arr.ndim)#check where the dimenction is (1d,2d,,3d)\n"
   ]
  },
  {
   "cell_type": "code",
   "execution_count": 4,
   "id": "e6900c80-3679-45bd-8546-1449deaf9807",
   "metadata": {},
   "outputs": [
    {
     "name": "stdout",
     "output_type": "stream",
     "text": [
      "[[10 20 30]\n",
      " [40 50 60]]\n",
      "<class 'numpy.ndarray'>\n",
      "2\n"
     ]
    }
   ],
   "source": [
    "# 2 d arrays\n",
    "import numpy as np\n",
    "\n",
    "arr = np.array([[10,20,30],[40,50,60]])\n",
    "print(arr)\n",
    "print(type(arr))\n",
    "print(arr.ndim)#check where the dimenction is (1d,2d,,3d)"
   ]
  },
  {
   "cell_type": "code",
   "execution_count": 6,
   "id": "d78fb7e2-7196-401a-b347-49b87ece5eec",
   "metadata": {},
   "outputs": [
    {
     "name": "stdout",
     "output_type": "stream",
     "text": [
      "[[[10.  20.  30.2]\n",
      "  [40.  50.  60. ]\n",
      "  [70.  80.  90. ]]]\n",
      "<class 'numpy.ndarray'>\n",
      "3\n"
     ]
    }
   ],
   "source": [
    "# 3 d arrays\n",
    "\n",
    "arr = np.array([[[10,20,30.2],[40,50,60],[70,80,90]]])\n",
    "print(arr)\n",
    "print(type(arr))\n",
    "\n",
    "print(arr.ndim)  #check where the dimenction is (1d,2d,,3d)"
   ]
  },
  {
   "cell_type": "code",
   "execution_count": 3,
   "id": "0fcf1bf4-3593-494a-a6aa-ac020feb17ba",
   "metadata": {},
   "outputs": [
    {
     "name": "stdout",
     "output_type": "stream",
     "text": [
      "[[[[[1 2 3 4]]]]]\n",
      "the numbers of dim is : 5\n"
     ]
    }
   ],
   "source": [
    "# 5 dimension \n",
    "import numpy as np\n",
    "arr = np.array([1,2,3,4] , ndmin = 5)\n",
    "print(arr)\n",
    "print(\"the numbers of dim is :\" , arr.ndim)"
   ]
  },
  {
   "cell_type": "code",
   "execution_count": 4,
   "id": "d2d220e7-a331-4735-bb32-f2a902a43059",
   "metadata": {},
   "outputs": [],
   "source": [
    "#  Numpy inxeding \n",
    "\n",
    "# Array indexing is the same as accessing an array element\n",
    "# you can access an array element by referring to its index\n",
    "\n",
    "# get first element\n",
    "\n"
   ]
  },
  {
   "cell_type": "code",
   "execution_count": 5,
   "id": "b9bd79ba-4b49-439b-b74f-e9b4a629d78d",
   "metadata": {},
   "outputs": [
    {
     "name": "stdout",
     "output_type": "stream",
     "text": [
      "2\n"
     ]
    }
   ],
   "source": [
    "arr = np.array([2,1,3,4,56])\n",
    "print(arr[0])"
   ]
  },
  {
   "cell_type": "code",
   "execution_count": 7,
   "id": "68db3c3c-a6ed-4f34-9bf6-0cd4eecac417",
   "metadata": {},
   "outputs": [
    {
     "name": "stdout",
     "output_type": "stream",
     "text": [
      "1\n",
      "16\n",
      "the second element is : 3\n",
      "the six element is : 5\n",
      "the eight element is : 7\n",
      "the sum of the element is : 15\n"
     ]
    }
   ],
   "source": [
    "arr = np.array([1,2,3,4,56,5,6,7,8,9,10,20,23,25,99,69])\n",
    "print(arr[0])\n",
    "print(len(arr))\n",
    "print(\"the second element is :\" , arr[2])\n",
    "print(\"the six element is :\", arr[5])\n",
    "print(\"the eight element is :\", arr[7])\n",
    "print(\"the sum of the element is :\", arr[2]+arr[5]+arr[7])"
   ]
  },
  {
   "cell_type": "code",
   "execution_count": 9,
   "id": "0aa4e78d-6b09-438f-80a0-5a977a406c19",
   "metadata": {},
   "outputs": [
    {
     "name": "stdout",
     "output_type": "stream",
     "text": [
      "2 element on 1 row is : 20\n"
     ]
    }
   ],
   "source": [
    "    # access 2-D arrays for indexing\n",
    "            #      0             1        this is the  index position\n",
    "            #    0,  1, 2   0,  1, 2      this is the  the element inside the index element \n",
    "arr = np.array([[10,20,30],[40,50,60]])\n",
    "print('2 element on 1 row is :'  , arr[0,1]) \n",
    " # arr[0,1] where 0 is (first breaket) and in first it has 10,20,30 and in it we print 1 row means 20 (index)\n",
    "  \n",
    "               \n"
   ]
  },
  {
   "cell_type": "code",
   "execution_count": 15,
   "id": "5c81bf76-053e-45c5-adc4-e034d012fb61",
   "metadata": {},
   "outputs": [
    {
     "name": "stdout",
     "output_type": "stream",
     "text": [
      "2 element on 1 row is : 6\n"
     ]
    }
   ],
   "source": [
    "arr = np.array([[1,2,3,4,],[56,5,6,7]])\n",
    "print('2 element on 1 row is :'  , arr[1,2]) "
   ]
  },
  {
   "cell_type": "code",
   "execution_count": 27,
   "id": "49668362-9148-41d7-9571-6d2b1e88d4ee",
   "metadata": {},
   "outputs": [
    {
     "name": "stdout",
     "output_type": "stream",
     "text": [
      "2 element on 1 row is : 6\n",
      "last element is : 7\n",
      "sum is : 13\n"
     ]
    }
   ],
   "source": [
    "arr = np.array([[1,2,3,4,],[56,5,6,7]])\n",
    "print('2 element on 1 row is :'  , arr[1,2]) \n",
    "print('last element is :', arr[1,3])\n",
    "print(\"sum is :\" , arr[1,2]+arr[1,3])"
   ]
  },
  {
   "cell_type": "code",
   "execution_count": 29,
   "id": "b916b9fa-33e6-4abf-bea1-bd7616f11b7b",
   "metadata": {},
   "outputs": [
    {
     "name": "stdout",
     "output_type": "stream",
     "text": [
      "6.0\n"
     ]
    }
   ],
   "source": [
    " # access 3 -D arrays for indexing\n",
    "                 #      0                 1        this is the  index position\n",
    "                #  0,      1         0,         1  this is the this is the second index position \n",
    "                # 0,1,2   0,1,2     0,1,2    0 ,  1, 2   this is the  the element inside the index element \n",
    "arr = np.array([[[1,2,3],[4,5,6]],[[7,8,9],[10.2,12,13]]])\n",
    "print(arr[0,1,2])\n",
    "\n"
   ]
  },
  {
   "cell_type": "code",
   "execution_count": 31,
   "id": "0cf7e833-2ad8-4870-9d3b-ca73b832db3b",
   "metadata": {},
   "outputs": [
    {
     "name": "stdout",
     "output_type": "stream",
     "text": [
      "[2 3 4 5]\n",
      "<class 'numpy.ndarray'>\n"
     ]
    }
   ],
   "source": [
    "\n",
    "# slicing of the numpy arrays \n",
    "\n",
    "arr = np.array ([1,2,3,4,5,6,7,8,9])\n",
    "print(arr[1:5])\n",
    "print(type(arr))"
   ]
  },
  {
   "cell_type": "code",
   "execution_count": 32,
   "id": "628d8b1f-5c88-4f1f-8770-7d07a41b0572",
   "metadata": {},
   "outputs": [
    {
     "name": "stdout",
     "output_type": "stream",
     "text": [
      "[1 3 5 7 9]\n"
     ]
    }
   ],
   "source": [
    "# spiking the element\n",
    "\n",
    "arr = np.array ([1,2,3,4,5,6,7,8,9])\n",
    "print(arr[::2])"
   ]
  },
  {
   "cell_type": "code",
   "execution_count": 33,
   "id": "c6c705c2-b10c-4972-9537-460a37acdb1c",
   "metadata": {},
   "outputs": [
    {
     "name": "stdout",
     "output_type": "stream",
     "text": [
      "[7 8 9]\n"
     ]
    }
   ],
   "source": [
    "# slicing in 2-d arrays\n",
    "\n",
    "arr = np.array([[1,2,3,4,5],[6,7,8,9,10]])\n",
    "print(arr[1,1:4])"
   ]
  },
  {
   "cell_type": "code",
   "execution_count": 35,
   "id": "57080a82-3ca2-4674-b041-4df376397b6c",
   "metadata": {},
   "outputs": [
    {
     "name": "stdout",
     "output_type": "stream",
     "text": [
      "[1 2 3 4]\n"
     ]
    }
   ],
   "source": [
    "arr = np.array([[1,2,3,4,5],[6,7,8,9,10]])\n",
    "print(arr[0,0:4])"
   ]
  },
  {
   "cell_type": "code",
   "execution_count": 37,
   "id": "89461525-81b9-4f17-a863-279bd4867b7e",
   "metadata": {},
   "outputs": [
    {
     "name": "stdout",
     "output_type": "stream",
     "text": [
      "int32\n"
     ]
    }
   ],
   "source": [
    " # checking the data type of the arrays\n",
    "\n",
    "arr = np.array ([1,2,3,4,5,6,7,8,9])\n",
    "\n",
    "print(arr.dtype)"
   ]
  },
  {
   "cell_type": "code",
   "execution_count": 38,
   "id": "46a64bc4-30be-499c-9359-ba063bcf1b1c",
   "metadata": {},
   "outputs": [
    {
     "name": "stdout",
     "output_type": "stream",
     "text": [
      "<U7\n"
     ]
    }
   ],
   "source": [
    "arr = np.array(['animals','python'])\n",
    "print(arr.dtype)"
   ]
  },
  {
   "cell_type": "code",
   "execution_count": 39,
   "id": "e795bbc4-d4a0-4f11-b6f1-74d06921b8d5",
   "metadata": {},
   "outputs": [
    {
     "name": "stdout",
     "output_type": "stream",
     "text": [
      "[b'1' b'2' b'3' b'4']\n",
      "|S1\n"
     ]
    }
   ],
   "source": [
    " # creating a array with defined data type\n",
    "\n",
    "arr = np.array([1,2,3,4] , dtype = 'S')\n",
    "print(arr)\n",
    "print(arr.dtype)"
   ]
  },
  {
   "cell_type": "code",
   "execution_count": 43,
   "id": "04ba2f29-0ecb-4146-a625-db89108c2ef4",
   "metadata": {},
   "outputs": [
    {
     "name": "stdout",
     "output_type": "stream",
     "text": [
      "[1 2 3 4]\n",
      "int32\n"
     ]
    }
   ],
   "source": [
    "#create an arrays with data types of 4 bytes interger\n",
    "\n",
    "arr = np.array([1,2,3,4] , dtype = 'i4')\n",
    "print(arr)\n",
    "print(arr.dtype)"
   ]
  },
  {
   "cell_type": "code",
   "execution_count": 44,
   "id": "91e61f0d-fd0a-4edb-a3fb-70d624592086",
   "metadata": {},
   "outputs": [
    {
     "name": "stdout",
     "output_type": "stream",
     "text": [
      "[1. 2. 3. 4.]\n",
      "float32\n"
     ]
    }
   ],
   "source": [
    "arr = np.array([1,2,3,4] , dtype = 'f4')\n",
    "print(arr)\n",
    "print(arr.dtype)"
   ]
  },
  {
   "cell_type": "code",
   "execution_count": 45,
   "id": "22830dd8-3a72-43e3-bf78-ebc118fe5948",
   "metadata": {},
   "outputs": [
    {
     "name": "stdout",
     "output_type": "stream",
     "text": [
      "(2, 4)\n"
     ]
    }
   ],
   "source": [
    "#  numpy array shape\n",
    "# the shape of array is the number of the emement in each dimenstion\n",
    "\n",
    "\n",
    "#print the shape of the 2-d array\n",
    "\n",
    "\n",
    "arr = np.array([[1,2,3,4],[5,6,7,8]])         \n",
    "print(arr.shape)\n"
   ]
  },
  {
   "cell_type": "code",
   "execution_count": 46,
   "id": "fdf42e5c-d501-460e-a75e-b30f1182481a",
   "metadata": {},
   "outputs": [
    {
     "name": "stdout",
     "output_type": "stream",
     "text": [
      "(1, 3, 4)\n"
     ]
    }
   ],
   "source": [
    "arr = np.array([[[1,2,3,4],[5,6,7,8],[9,10,11,12]]])         \n",
    "print(arr.shape)"
   ]
  },
  {
   "cell_type": "code",
   "execution_count": 48,
   "id": "8e855e81-d311-49c5-b83a-9727954f98c8",
   "metadata": {},
   "outputs": [
    {
     "name": "stdout",
     "output_type": "stream",
     "text": [
      "[1 2 3 4 5 6]\n"
     ]
    }
   ],
   "source": [
    "  #  joining numpy arrays \n",
    "\n",
    "arr1 = np.array([1,2,3])\n",
    "arr2 = np.array([4,5,6])\n",
    "arr3 = np.concatenate((arr1,arr2))\n",
    "print(arr3)\n"
   ]
  },
  {
   "cell_type": "code",
   "execution_count": 49,
   "id": "e30a8712-7f1d-45bb-906c-23382c479e8f",
   "metadata": {},
   "outputs": [
    {
     "data": {
      "text/plain": [
       "array([[ 1,  2,  3],\n",
       "       [ 4,  5,  6],\n",
       "       [ 7,  8,  9],\n",
       "       [10, 11, 12]])"
      ]
     },
     "execution_count": 49,
     "metadata": {},
     "output_type": "execute_result"
    }
   ],
   "source": [
    "# join 2-d arrys\n",
    "\n",
    "arr1 = np.array([[1,2,3],[4,5,6]])\n",
    "arr2 = np.array([[7,8,9],[10,11,12]])\n",
    "\n",
    "np.concatenate((arr1,arr2))"
   ]
  },
  {
   "cell_type": "code",
   "execution_count": 50,
   "id": "cfe7d600-afc2-4093-afac-5da62f1a49bd",
   "metadata": {},
   "outputs": [
    {
     "data": {
      "text/plain": [
       "array([[ 1,  2,  3,  7,  8,  9],\n",
       "       [ 4,  5,  6, 10, 11, 12]])"
      ]
     },
     "execution_count": 50,
     "metadata": {},
     "output_type": "execute_result"
    }
   ],
   "source": [
    "arr1 = np.array([[1,2,3],[4,5,6]])\n",
    "arr2 = np.array([[7,8,9],[10,11,12]])\n",
    "\n",
    "np.concatenate((arr1,arr2),axis = 1)"
   ]
  },
  {
   "cell_type": "code",
   "execution_count": 55,
   "id": "c2e151d9-39e4-4e7a-bc4f-a63dd3d421a5",
   "metadata": {},
   "outputs": [
    {
     "name": "stdout",
     "output_type": "stream",
     "text": [
      "[array([1, 2]), array([3, 4]), array([5, 6])]\n"
     ]
    }
   ],
   "source": [
    "# splitting numpy arrays\n",
    "\n",
    "# spliting the arrys in 3 parts\n",
    "\n",
    "arr = np.array([1,2,3,4,5,6])\n",
    "narr  = np.array_split(arr,3)\n",
    "print(narr)"
   ]
  },
  {
   "cell_type": "code",
   "execution_count": 60,
   "id": "6d4b4f48-1833-40ca-bdac-9eaa8ed27f76",
   "metadata": {},
   "outputs": [
    {
     "data": {
      "text/plain": [
       "[array([1, 2]), array([3, 4]), array([5, 6])]"
      ]
     },
     "execution_count": 60,
     "metadata": {},
     "output_type": "execute_result"
    }
   ],
   "source": [
    "arr = np.array([1,2,3,4,5,6])\n",
    "np.array_split(arr,3)\n"
   ]
  },
  {
   "cell_type": "code",
   "execution_count": 64,
   "id": "543b4d37-de68-4973-9f5f-82bb0e88bbe2",
   "metadata": {},
   "outputs": [
    {
     "name": "stdout",
     "output_type": "stream",
     "text": [
      "[[[1 2 3]\n",
      "  [4 5 6]\n",
      "  [7 8 9]]]\n",
      "dimension is : 3\n",
      "[1 2 3 4 5 6 7 8 9]\n"
     ]
    }
   ],
   "source": [
    "        # ravel and flatten  (do the same thing)\n",
    "# convert multi dim  array into 1 d arrays\n",
    "\n",
    "\n",
    "m = np.array([[[1,2,3],[4,5,6],[7,8,9]]])\n",
    "\n",
    "print(m)\n",
    "print('dimension is :' , m.ndim)\n",
    "\n",
    "n = m.ravel()  # convert 3-d to 1-d\n",
    "print(n)"
   ]
  },
  {
   "cell_type": "code",
   "execution_count": 65,
   "id": "1ec74a22-a76a-46c5-899c-14a0e5c605e0",
   "metadata": {},
   "outputs": [
    {
     "name": "stdout",
     "output_type": "stream",
     "text": [
      "[[[1 2 3]\n",
      "  [4 5 6]\n",
      "  [7 8 9]]]\n",
      "dimension is : 3\n",
      "[1 2 3 4 5 6 7 8 9]\n",
      "dimension is : 1\n"
     ]
    }
   ],
   "source": [
    "m = np.array([[[1,2,3],[4,5,6],[7,8,9]]])\n",
    "\n",
    "print(m)\n",
    "print('dimension is :' , m.ndim)\n",
    "\n",
    "n = m.flatten()  # convert 3-d to 1-d\n",
    "print(n)\n",
    "print('dimension is :' , n.ndim)"
   ]
  },
  {
   "cell_type": "code",
   "execution_count": 74,
   "id": "cabe1f82-f0f2-48ef-bad7-d84702cccd36",
   "metadata": {},
   "outputs": [
    {
     "name": "stdout",
     "output_type": "stream",
     "text": [
      "[[[[1 2 3]\n",
      "   [4 5 6]\n",
      "   [7 8 9]]]]\n",
      "how many dimension is : 4\n",
      "the new dim is : [1 2 3 4 5 6 7 8 9]\n"
     ]
    }
   ],
   "source": [
    "c = np.array([[[[1,2,3],[4,5,6],[7,8,9]]]])\n",
    "print(c)\n",
    "print('how many dimension is :',c.ndim)\n",
    "\n",
    "print('the new dim is :' , c.ravel())\n",
    "\n"
   ]
  },
  {
   "cell_type": "code",
   "execution_count": 76,
   "id": "42bf6a62-5018-4802-94fc-863fd6419e1c",
   "metadata": {},
   "outputs": [
    {
     "name": "stdout",
     "output_type": "stream",
     "text": [
      "[ 12  14  13  15  16   5  28  61 864   1 564   8  16  82  94   8 940 628\n",
      "   4]\n",
      "[  1   4   5   8  12  13  14  15  16  28  61  82  94 564 628 864 940]\n"
     ]
    }
   ],
   "source": [
    "#  unique Function\n",
    "\n",
    "arr = np.array([12,14,13,15,16,5,28,61,864,1,564,8,16,82,94,8,940,628,4,])\n",
    "print(arr)\n",
    "x = np.unique(arr)\n",
    "print(x)"
   ]
  },
  {
   "cell_type": "code",
   "execution_count": 79,
   "id": "1432d1f0-a2ec-4f8a-9343-7cfb551cde80",
   "metadata": {},
   "outputs": [
    {
     "name": "stdout",
     "output_type": "stream",
     "text": [
      "[ 12  14  13  15  16   5  28  61 864   1 564   8  16  82  94   8 940 628\n",
      "   4]\n",
      "(array([  1,   4,   5,   8,  12,  13,  14,  15,  16,  28,  61,  82,  94,\n",
      "       564, 628, 864, 940]), array([ 9, 18,  5, 11,  0,  2,  1,  3,  4,  6,  7, 13, 14, 10, 17,  8, 16],\n",
      "      dtype=int64))\n"
     ]
    }
   ],
   "source": [
    "# find index position  (return function)\n",
    "\n",
    "arr = np.array([12,14,13,15,16,5,28,61,864,1,564,8,16,82,94,8,940,628,4,])\n",
    "print(arr)\n",
    "x = np.unique(arr , return_index = True)\n",
    "print(x)\n"
   ]
  },
  {
   "cell_type": "code",
   "execution_count": 80,
   "id": "13126ee0-9b12-4d54-b9c9-fd1dff30e990",
   "metadata": {},
   "outputs": [
    {
     "name": "stdout",
     "output_type": "stream",
     "text": [
      "[ 12  14  13  15  16   5  28  61 864   1 564   8  16  82  94   8 940 628\n",
      "   4]\n",
      "(array([  1,   4,   5,   8,  12,  13,  14,  15,  16,  28,  61,  82,  94,\n",
      "       564, 628, 864, 940]), array([ 9, 18,  5, 11,  0,  2,  1,  3,  4,  6,  7, 13, 14, 10, 17,  8, 16],\n",
      "      dtype=int64), array([1, 1, 1, 2, 1, 1, 1, 1, 2, 1, 1, 1, 1, 1, 1, 1, 1], dtype=int64))\n"
     ]
    }
   ],
   "source": [
    "arr = np.array([12,14,13,15,16,5,28,61,864,1,564,8,16,82,94,8,940,628,4,])\n",
    "print(arr)\n",
    "x = np.unique(arr , return_index = True ,return_counts = True)\n",
    "print(x)"
   ]
  },
  {
   "cell_type": "code",
   "execution_count": 81,
   "id": "8e35a89d-15dc-4142-acc7-5065ed92b5ed",
   "metadata": {},
   "outputs": [
    {
     "name": "stdout",
     "output_type": "stream",
     "text": [
      "[ 1 23 68 47 58]\n"
     ]
    }
   ],
   "source": [
    "#  delete function\n",
    "\n",
    "a = np.array([1,23,25,68,47,58])\n",
    "d = np.delete(a,[2])\n",
    "print(d)"
   ]
  },
  {
   "cell_type": "code",
   "execution_count": 87,
   "id": "39580ebe-863a-4cfb-812d-ae5f639a9729",
   "metadata": {},
   "outputs": [
    {
     "name": "stdout",
     "output_type": "stream",
     "text": [
      "[[ 1 23 25]\n",
      " [68 47 58]\n",
      " [48 89 99]]\n",
      "\n",
      "[[ 1 23 25]\n",
      " [48 89 99]]\n"
     ]
    }
   ],
   "source": [
    "\n",
    "a = np.array([[1,23,25],[68,47,58],[48,89,99]])\n",
    "print(a)\n",
    "d = np.delete(a,1,axis = 0)\n",
    "print()\n",
    "print(d)"
   ]
  },
  {
   "cell_type": "code",
   "execution_count": 88,
   "id": "f4b6c109-bed0-4618-b6f3-35321a81332e",
   "metadata": {},
   "outputs": [
    {
     "name": "stdout",
     "output_type": "stream",
     "text": [
      "[[ 1 23 25]\n",
      " [68 47 58]\n",
      " [48 89 99]]\n",
      "\n",
      "[[ 1 25]\n",
      " [68 58]\n",
      " [48 99]]\n"
     ]
    }
   ],
   "source": [
    "a = np.array([[1,23,25],[68,47,58],[48,89,99]])\n",
    "print(a)\n",
    "d = np.delete(a,1,axis = 1)\n",
    "print()\n",
    "print(d)"
   ]
  },
  {
   "cell_type": "code",
   "execution_count": 89,
   "id": "7489c0da-bc1f-4435-8cbc-7c0032ede0cf",
   "metadata": {},
   "outputs": [
    {
     "name": "stdout",
     "output_type": "stream",
     "text": [
      "[[ 1 23 25]\n",
      " [68 47 58]\n",
      " [48 89 99]]\n",
      "\n",
      "[[ 1 23 25]\n",
      " [68 47 58]]\n"
     ]
    }
   ],
   "source": [
    "a = np.array([[1,23,25],[68,47,58],[48,89,99]])\n",
    "print(a)\n",
    "d = np.delete(a,2,axis = 0)\n",
    "print()\n",
    "print(d)"
   ]
  },
  {
   "cell_type": "code",
   "execution_count": 90,
   "id": "8c4b4454-9e64-4641-86a7-5a1385595648",
   "metadata": {},
   "outputs": [
    {
     "name": "stdout",
     "output_type": "stream",
     "text": [
      "[[ 1 23 25]\n",
      " [68 47 58]\n",
      " [48 89 99]]\n",
      "\n",
      "[[ 1 23]\n",
      " [68 47]\n",
      " [48 89]]\n"
     ]
    }
   ],
   "source": [
    "a = np.array([[1,23,25],[68,47,58],[48,89,99]])\n",
    "print(a)\n",
    "d = np.delete(a,2,axis = 1)\n",
    "print()\n",
    "print(d)"
   ]
  },
  {
   "cell_type": "code",
   "execution_count": null,
   "id": "adea38ff-0569-498f-bcb2-bef7000d60a5",
   "metadata": {},
   "outputs": [],
   "source": []
  }
 ],
 "metadata": {
  "kernelspec": {
   "display_name": "Python 3 (ipykernel)",
   "language": "python",
   "name": "python3"
  },
  "language_info": {
   "codemirror_mode": {
    "name": "ipython",
    "version": 3
   },
   "file_extension": ".py",
   "mimetype": "text/x-python",
   "name": "python",
   "nbconvert_exporter": "python",
   "pygments_lexer": "ipython3",
   "version": "3.12.7"
  }
 },
 "nbformat": 4,
 "nbformat_minor": 5
}
